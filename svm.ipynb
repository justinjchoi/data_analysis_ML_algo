{
 "cells": [
  {
   "cell_type": "markdown",
   "metadata": {},
   "source": [
    "# Homework 5\n",
    "## INF 552: Machine Learning for Data Informatics\n",
    "### Jungho Choi (junghoch@usc.edu)"
   ]
  },
  {
   "cell_type": "code",
   "execution_count": 7,
   "metadata": {},
   "outputs": [],
   "source": [
    "import numpy as np \n",
    "import pandas as pd \n",
    "from sklearn.svm import SVC \n",
    "from sklearn.multiclass import OneVsRestClassifier\n",
    "from sklearn.model_selection import train_test_split, RandomizedSearchCV, GridSearchCV, KFold\n",
    "from sklearn.metrics import hamming_loss, accuracy_score\n",
    "import warnings\n",
    "warnings.filterwarnings('ignore')"
   ]
  },
  {
   "cell_type": "markdown",
   "metadata": {},
   "source": [
    "#### 1.Multi-class and Multi-Label Classification Using Support Vector Machines"
   ]
  },
  {
   "cell_type": "markdown",
   "metadata": {},
   "source": [
    "(a) Download the Anuran Calls (MFCCs) Data Set from: https://archive.ics.uci.edu/ml/datasets/Anuran+Calls+%28MFCCs%29. Choose 70% of the data randomly as the training set."
   ]
  },
  {
   "cell_type": "code",
   "execution_count": 8,
   "metadata": {},
   "outputs": [
    {
     "data": {
      "text/html": [
       "<div>\n",
       "<table border=\"1\" class=\"dataframe\">\n",
       "  <thead>\n",
       "    <tr style=\"text-align: right;\">\n",
       "      <th></th>\n",
       "      <th>MFCCs_ 1</th>\n",
       "      <th>MFCCs_ 2</th>\n",
       "      <th>MFCCs_ 3</th>\n",
       "      <th>MFCCs_ 4</th>\n",
       "      <th>MFCCs_ 5</th>\n",
       "      <th>MFCCs_ 6</th>\n",
       "      <th>MFCCs_ 7</th>\n",
       "      <th>MFCCs_ 8</th>\n",
       "      <th>MFCCs_ 9</th>\n",
       "      <th>MFCCs_10</th>\n",
       "      <th>...</th>\n",
       "      <th>MFCCs_17</th>\n",
       "      <th>MFCCs_18</th>\n",
       "      <th>MFCCs_19</th>\n",
       "      <th>MFCCs_20</th>\n",
       "      <th>MFCCs_21</th>\n",
       "      <th>MFCCs_22</th>\n",
       "      <th>Family</th>\n",
       "      <th>Genus</th>\n",
       "      <th>Species</th>\n",
       "      <th>RecordID</th>\n",
       "    </tr>\n",
       "  </thead>\n",
       "  <tbody>\n",
       "    <tr>\n",
       "      <th>0</th>\n",
       "      <td>1.0</td>\n",
       "      <td>0.152936</td>\n",
       "      <td>-0.105586</td>\n",
       "      <td>0.200722</td>\n",
       "      <td>0.317201</td>\n",
       "      <td>0.260764</td>\n",
       "      <td>0.100945</td>\n",
       "      <td>-0.150063</td>\n",
       "      <td>-0.171128</td>\n",
       "      <td>0.124676</td>\n",
       "      <td>...</td>\n",
       "      <td>-0.108351</td>\n",
       "      <td>-0.077623</td>\n",
       "      <td>-0.009568</td>\n",
       "      <td>0.057684</td>\n",
       "      <td>0.118680</td>\n",
       "      <td>0.014038</td>\n",
       "      <td>Leptodactylidae</td>\n",
       "      <td>Adenomera</td>\n",
       "      <td>AdenomeraAndre</td>\n",
       "      <td>1</td>\n",
       "    </tr>\n",
       "    <tr>\n",
       "      <th>1</th>\n",
       "      <td>1.0</td>\n",
       "      <td>0.171534</td>\n",
       "      <td>-0.098975</td>\n",
       "      <td>0.268425</td>\n",
       "      <td>0.338672</td>\n",
       "      <td>0.268353</td>\n",
       "      <td>0.060835</td>\n",
       "      <td>-0.222475</td>\n",
       "      <td>-0.207693</td>\n",
       "      <td>0.170883</td>\n",
       "      <td>...</td>\n",
       "      <td>-0.090974</td>\n",
       "      <td>-0.056510</td>\n",
       "      <td>-0.035303</td>\n",
       "      <td>0.020140</td>\n",
       "      <td>0.082263</td>\n",
       "      <td>0.029056</td>\n",
       "      <td>Leptodactylidae</td>\n",
       "      <td>Adenomera</td>\n",
       "      <td>AdenomeraAndre</td>\n",
       "      <td>1</td>\n",
       "    </tr>\n",
       "    <tr>\n",
       "      <th>2</th>\n",
       "      <td>1.0</td>\n",
       "      <td>0.152317</td>\n",
       "      <td>-0.082973</td>\n",
       "      <td>0.287128</td>\n",
       "      <td>0.276014</td>\n",
       "      <td>0.189867</td>\n",
       "      <td>0.008714</td>\n",
       "      <td>-0.242234</td>\n",
       "      <td>-0.219153</td>\n",
       "      <td>0.232538</td>\n",
       "      <td>...</td>\n",
       "      <td>-0.050691</td>\n",
       "      <td>-0.023590</td>\n",
       "      <td>-0.066722</td>\n",
       "      <td>-0.025083</td>\n",
       "      <td>0.099108</td>\n",
       "      <td>0.077162</td>\n",
       "      <td>Leptodactylidae</td>\n",
       "      <td>Adenomera</td>\n",
       "      <td>AdenomeraAndre</td>\n",
       "      <td>1</td>\n",
       "    </tr>\n",
       "    <tr>\n",
       "      <th>3</th>\n",
       "      <td>1.0</td>\n",
       "      <td>0.224392</td>\n",
       "      <td>0.118985</td>\n",
       "      <td>0.329432</td>\n",
       "      <td>0.372088</td>\n",
       "      <td>0.361005</td>\n",
       "      <td>0.015501</td>\n",
       "      <td>-0.194347</td>\n",
       "      <td>-0.098181</td>\n",
       "      <td>0.270375</td>\n",
       "      <td>...</td>\n",
       "      <td>-0.136009</td>\n",
       "      <td>-0.177037</td>\n",
       "      <td>-0.130498</td>\n",
       "      <td>-0.054766</td>\n",
       "      <td>-0.018691</td>\n",
       "      <td>0.023954</td>\n",
       "      <td>Leptodactylidae</td>\n",
       "      <td>Adenomera</td>\n",
       "      <td>AdenomeraAndre</td>\n",
       "      <td>1</td>\n",
       "    </tr>\n",
       "    <tr>\n",
       "      <th>4</th>\n",
       "      <td>1.0</td>\n",
       "      <td>0.087817</td>\n",
       "      <td>-0.068345</td>\n",
       "      <td>0.306967</td>\n",
       "      <td>0.330923</td>\n",
       "      <td>0.249144</td>\n",
       "      <td>0.006884</td>\n",
       "      <td>-0.265423</td>\n",
       "      <td>-0.172700</td>\n",
       "      <td>0.266434</td>\n",
       "      <td>...</td>\n",
       "      <td>-0.048885</td>\n",
       "      <td>-0.053074</td>\n",
       "      <td>-0.088550</td>\n",
       "      <td>-0.031346</td>\n",
       "      <td>0.108610</td>\n",
       "      <td>0.079244</td>\n",
       "      <td>Leptodactylidae</td>\n",
       "      <td>Adenomera</td>\n",
       "      <td>AdenomeraAndre</td>\n",
       "      <td>1</td>\n",
       "    </tr>\n",
       "  </tbody>\n",
       "</table>\n",
       "<p>5 rows × 26 columns</p>\n",
       "</div>"
      ],
      "text/plain": [
       "   MFCCs_ 1  MFCCs_ 2  MFCCs_ 3  MFCCs_ 4  MFCCs_ 5  MFCCs_ 6  MFCCs_ 7  \\\n",
       "0       1.0  0.152936 -0.105586  0.200722  0.317201  0.260764  0.100945   \n",
       "1       1.0  0.171534 -0.098975  0.268425  0.338672  0.268353  0.060835   \n",
       "2       1.0  0.152317 -0.082973  0.287128  0.276014  0.189867  0.008714   \n",
       "3       1.0  0.224392  0.118985  0.329432  0.372088  0.361005  0.015501   \n",
       "4       1.0  0.087817 -0.068345  0.306967  0.330923  0.249144  0.006884   \n",
       "\n",
       "   MFCCs_ 8  MFCCs_ 9  MFCCs_10    ...     MFCCs_17  MFCCs_18  MFCCs_19  \\\n",
       "0 -0.150063 -0.171128  0.124676    ...    -0.108351 -0.077623 -0.009568   \n",
       "1 -0.222475 -0.207693  0.170883    ...    -0.090974 -0.056510 -0.035303   \n",
       "2 -0.242234 -0.219153  0.232538    ...    -0.050691 -0.023590 -0.066722   \n",
       "3 -0.194347 -0.098181  0.270375    ...    -0.136009 -0.177037 -0.130498   \n",
       "4 -0.265423 -0.172700  0.266434    ...    -0.048885 -0.053074 -0.088550   \n",
       "\n",
       "   MFCCs_20  MFCCs_21  MFCCs_22           Family      Genus         Species  \\\n",
       "0  0.057684  0.118680  0.014038  Leptodactylidae  Adenomera  AdenomeraAndre   \n",
       "1  0.020140  0.082263  0.029056  Leptodactylidae  Adenomera  AdenomeraAndre   \n",
       "2 -0.025083  0.099108  0.077162  Leptodactylidae  Adenomera  AdenomeraAndre   \n",
       "3 -0.054766 -0.018691  0.023954  Leptodactylidae  Adenomera  AdenomeraAndre   \n",
       "4 -0.031346  0.108610  0.079244  Leptodactylidae  Adenomera  AdenomeraAndre   \n",
       "\n",
       "   RecordID  \n",
       "0         1  \n",
       "1         1  \n",
       "2         1  \n",
       "3         1  \n",
       "4         1  \n",
       "\n",
       "[5 rows x 26 columns]"
      ]
     },
     "execution_count": 8,
     "metadata": {},
     "output_type": "execute_result"
    }
   ],
   "source": [
    "frog_data = pd.read_csv(\"/Users/choi/usc/inf552/hw5/MFCCs_data/Frogs_MFCCs.csv\")\n",
    "split_data = train_test_split(frog_data, train_size = 0.7)\n",
    "train = split_data[0]\n",
    "test = split_data[1]\n",
    "\n",
    "frog_data.head()"
   ]
  },
  {
   "cell_type": "markdown",
   "metadata": {},
   "source": [
    "(b) Each instance has three labels: Families, Genus, and Species. Each of the labels has multiple classes. We wish to solve a multi-class and multi-label problem. One of the most important approaches to multi-class classification is to train a classifier for each label. We first try this approach:"
   ]
  },
  {
   "cell_type": "markdown",
   "metadata": {},
   "source": [
    "- i. Research exact match and hamming score / loss methods for evaluating multilabel classification and use them in evaluating the classifiers in this problem."
   ]
  },
  {
   "cell_type": "markdown",
   "metadata": {},
   "source": [
    "##### Exact Match Methods\n",
    "- \"In multilabel classification, this function computes subset accuracy: the set of labels predicted for a sample must exactly match the corresponding set of labels in y_true\" (http://scikit-learn.org/stable/modules/generated/sklearn.metrics.accuracy_score.html)."
   ]
  },
  {
   "cell_type": "code",
   "execution_count": 27,
   "metadata": {
    "collapsed": true
   },
   "outputs": [],
   "source": [
    "X_train = train.iloc[:,:-4]\n",
    "y_train_family = pd.DataFrame(train['Family'])\n",
    "y_train_genus = pd.DataFrame(train['Genus'])\n",
    "y_train_species = pd.DataFrame(train['Species'])\n",
    "\n",
    "X_test = test.iloc[:,:-4]\n",
    "y_test_family = pd.DataFrame(test['Family'])\n",
    "y_test_genus = pd.DataFrame(test['Genus'])\n",
    "y_test_species = pd.DataFrame(test['Species'])"
   ]
  },
  {
   "cell_type": "markdown",
   "metadata": {},
   "source": [
    "        - Family"
   ]
  },
  {
   "cell_type": "code",
   "execution_count": 29,
   "metadata": {},
   "outputs": [
    {
     "name": "stdout",
     "output_type": "stream",
     "text": [
      "Exact match  : 0.929133858268\n"
     ]
    }
   ],
   "source": [
    "svc = SVC()\n",
    "svc.fit(X_train,y_train_family)\n",
    "preds_family = svc.predict(X_test)\n",
    "exact_match_family = accuracy_score(y_test_family, preds_family)\n",
    "print(\"Exact match  : \" + str(exact_match_family))"
   ]
  },
  {
   "cell_type": "markdown",
   "metadata": {},
   "source": [
    "        - Genus"
   ]
  },
  {
   "cell_type": "code",
   "execution_count": 31,
   "metadata": {},
   "outputs": [
    {
     "name": "stdout",
     "output_type": "stream",
     "text": [
      "Exact match  : 0.920333487726\n"
     ]
    }
   ],
   "source": [
    "svc = SVC()\n",
    "svc.fit(X_train,y_train_genus)\n",
    "preds_genus = svc.predict(X_test)\n",
    "exact_match_genus = accuracy_score(y_test_genus, preds_genus)\n",
    "print(\"Exact match  : \" + str(exact_match_genus))"
   ]
  },
  {
   "cell_type": "markdown",
   "metadata": {},
   "source": [
    "        - Species"
   ]
  },
  {
   "cell_type": "code",
   "execution_count": 32,
   "metadata": {},
   "outputs": [
    {
     "name": "stdout",
     "output_type": "stream",
     "text": [
      "Exact match  : 0.930060213062\n"
     ]
    }
   ],
   "source": [
    "svc = SVC()\n",
    "svc.fit(X_train,y_train_species)\n",
    "preds_species = svc.predict(X_test)\n",
    "exact_match_species = accuracy_score(y_test_species, preds_species)\n",
    "print(\"Exact match  : \" + str(exact_match_species))"
   ]
  },
  {
   "cell_type": "markdown",
   "metadata": {},
   "source": [
    "##### Hamming Score / Loss Methods \n",
    "-  \"In multiclass classification, the Hamming loss corresponds to the Hamming distance between y_true and y_pred which is similar to the Zero one loss function. However, while zero-one loss penalizes prediction sets that do not strictly match true sets, the Hamming loss penalizes individual labels. Thus the Hamming loss, upper bounded by the zero-one loss, is always between zero and one, inclusive; and predicting a proper subset or superset of the true labels will give a Hamming loss between zero and one, exclusive\" (http://scikit-learn.org/stable/modules/model_evaluation.html)"
   ]
  },
  {
   "cell_type": "markdown",
   "metadata": {},
   "source": [
    "        - Family"
   ]
  },
  {
   "cell_type": "code",
   "execution_count": 30,
   "metadata": {},
   "outputs": [
    {
     "name": "stdout",
     "output_type": "stream",
     "text": [
      "Hamming loss : 0.0708661417323\n"
     ]
    }
   ],
   "source": [
    "h_family = hamming_loss(y_test_family, preds_family)\n",
    "print(\"Hamming loss : \" + str(h_family))"
   ]
  },
  {
   "cell_type": "markdown",
   "metadata": {},
   "source": [
    "        - Genus"
   ]
  },
  {
   "cell_type": "code",
   "execution_count": 33,
   "metadata": {},
   "outputs": [
    {
     "name": "stdout",
     "output_type": "stream",
     "text": [
      "Hamming loss : 0.0796665122742\n"
     ]
    }
   ],
   "source": [
    "h_genus = hamming_loss(y_test_genus, preds_genus)\n",
    "print(\"Hamming loss : \" + str(h_genus))"
   ]
  },
  {
   "cell_type": "markdown",
   "metadata": {},
   "source": [
    "        - Species"
   ]
  },
  {
   "cell_type": "code",
   "execution_count": 34,
   "metadata": {},
   "outputs": [
    {
     "name": "stdout",
     "output_type": "stream",
     "text": [
      "Hamming loss : 0.0699397869384\n"
     ]
    }
   ],
   "source": [
    "h_species = hamming_loss(y_test_species, preds_species)\n",
    "print(\"Hamming loss : \" + str(h_species))"
   ]
  },
  {
   "cell_type": "markdown",
   "metadata": {},
   "source": [
    "- ii. Train a SVM for each of the labels, using Gaussian kernels and one versus all classifiers. Determine the weight of the SVM penalty and the width of the Gaussian Kernel using 10 fold cross validation. You are welcome to  try to solve the problem with both standardized and raw attributes and report the results."
   ]
  },
  {
   "cell_type": "code",
   "execution_count": 11,
   "metadata": {
    "collapsed": true
   },
   "outputs": [],
   "source": [
    "k_folds = KFold(10)\n",
    "C = [0.001, 0.01, 0.1, 1, 10, 100, 1000, 10000, 1000000]\n",
    "gamma = [0.00001,0.0001,0.001,0.01,0.1,0.5,1,10,100]\n",
    "\n",
    "parameters = {'estimator__C': C, 'estimator__gamma':gamma}\n",
    "\n",
    "model = OneVsRestClassifier(SVC(tol=0.1))\n",
    "\n",
    "X_train = train.iloc[:,:-4]\n",
    "y_train_family = pd.DataFrame(train['Family'])\n",
    "y_train_genus = pd.DataFrame(train['Genus'])\n",
    "y_train_species = pd.DataFrame(train['Species'])\n",
    "\n",
    "X_test = test.iloc[:,:-4]\n",
    "y_test_family = pd.DataFrame(test['Family'])\n",
    "y_test_genus = pd.DataFrame(test['Genus'])\n",
    "y_test_species = pd.DataFrame(test['Species'])"
   ]
  },
  {
   "cell_type": "markdown",
   "metadata": {},
   "source": [
    "        - Family"
   ]
  },
  {
   "cell_type": "code",
   "execution_count": 12,
   "metadata": {},
   "outputs": [
    {
     "data": {
      "text/plain": [
       "GridSearchCV(cv=KFold(n_splits=10, random_state=None, shuffle=False),\n",
       "       error_score='raise-deprecating',\n",
       "       estimator=OneVsRestClassifier(estimator=SVC(C=1.0, cache_size=200, class_weight=None, coef0=0.0,\n",
       "  decision_function_shape='ovr', degree=3, gamma='auto_deprecated',\n",
       "  kernel='rbf', max_iter=-1, probability=False, random_state=None,\n",
       "  shrinking=True, tol=0.1, verbose=False),\n",
       "          n_jobs=None),\n",
       "       fit_params=None, iid='warn', n_jobs=5,\n",
       "       param_grid={'estimator__C': [0.001, 0.01, 0.1, 1, 10, 100, 1000, 10000, 1000000], 'estimator__gamma': [1e-05, 0.0001, 0.001, 0.01, 0.1, 0.5, 1, 10, 100]},\n",
       "       pre_dispatch='2*n_jobs', refit=True, return_train_score='warn',\n",
       "       scoring=None, verbose=0)"
      ]
     },
     "execution_count": 12,
     "metadata": {},
     "output_type": "execute_result"
    }
   ],
   "source": [
    "gsc = GridSearchCV(model, parameters, cv=k_folds, n_jobs=5)\n",
    "gsc.fit(X_train, y_train_family)"
   ]
  },
  {
   "cell_type": "code",
   "execution_count": 13,
   "metadata": {},
   "outputs": [
    {
     "name": "stdout",
     "output_type": "stream",
     "text": [
      "Weight of the SVM penalty : {'estimator__C': 100, 'estimator__gamma': 1}\n",
      "Best Score                : 0.992454328832\n",
      "Width of Gaussian Kernel  : 0.707106781187\n",
      "Exact match               : 0.98934691987\n",
      "Hamming Loss              : 0.0106530801297\n"
     ]
    }
   ],
   "source": [
    "print(\"Weight of the SVM penalty : \" + str(gsc.best_params_)) \n",
    "print(\"Best Score                : \" + str(gsc.best_score_)) \n",
    "width=1/(np.sqrt(2*gsc.best_params_.get('estimator__gamma')))\n",
    "print(\"Width of Gaussian Kernel  : \" + str(width)) \n",
    "\n",
    "preds_family = gsc.predict(X_test)\n",
    "score = accuracy_score(y_test_family, preds_family)\n",
    "\n",
    "print(\"Exact match               : \" + str(score))\n",
    "h_family = hamming_loss(y_test_family, preds_family)\n",
    "print('Hamming Loss              : ' + str(h_family))"
   ]
  },
  {
   "cell_type": "markdown",
   "metadata": {},
   "source": [
    "        - Genus "
   ]
  },
  {
   "cell_type": "code",
   "execution_count": 14,
   "metadata": {},
   "outputs": [
    {
     "data": {
      "text/plain": [
       "GridSearchCV(cv=KFold(n_splits=10, random_state=None, shuffle=False),\n",
       "       error_score='raise-deprecating',\n",
       "       estimator=OneVsRestClassifier(estimator=SVC(C=1.0, cache_size=200, class_weight=None, coef0=0.0,\n",
       "  decision_function_shape='ovr', degree=3, gamma='auto_deprecated',\n",
       "  kernel='rbf', max_iter=-1, probability=False, random_state=None,\n",
       "  shrinking=True, tol=0.1, verbose=False),\n",
       "          n_jobs=None),\n",
       "       fit_params=None, iid='warn', n_jobs=5,\n",
       "       param_grid={'estimator__C': [0.001, 0.01, 0.1, 1, 10, 100, 1000, 10000, 1000000], 'estimator__gamma': [1e-05, 0.0001, 0.001, 0.01, 0.1, 0.5, 1, 10, 100]},\n",
       "       pre_dispatch='2*n_jobs', refit=True, return_train_score='warn',\n",
       "       scoring=None, verbose=0)"
      ]
     },
     "execution_count": 14,
     "metadata": {},
     "output_type": "execute_result"
    }
   ],
   "source": [
    "gsc = GridSearchCV(model, parameters, cv=k_folds, n_jobs=5)\n",
    "gsc.fit(X_train, y_train_genus)"
   ]
  },
  {
   "cell_type": "code",
   "execution_count": 15,
   "metadata": {},
   "outputs": [
    {
     "name": "stdout",
     "output_type": "stream",
     "text": [
      "Weight of the SVM penalty : {'estimator__C': 10, 'estimator__gamma': 1}\n",
      "Best Score                : 0.990865766481\n",
      "Width of Gaussian Kernel  : 0.707106781187\n",
      "Exact match               : 0.990736452061\n",
      "Hamming Loss              : 0.00926354793886\n"
     ]
    }
   ],
   "source": [
    "print(\"Weight of the SVM penalty : \" + str(gsc.best_params_)) \n",
    "print(\"Best Score                : \" + str(gsc.best_score_)) \n",
    "width=1/(np.sqrt(2*gsc.best_params_.get('estimator__gamma')))\n",
    "print(\"Width of Gaussian Kernel  : \" + str(width)) \n",
    "\n",
    "preds_genus = gsc.predict(X_test)\n",
    "score_genus = accuracy_score(y_test_genus, preds_genus)\n",
    "\n",
    "print(\"Exact match               : \" + str(score_genus))\n",
    "h_genus = hamming_loss(y_test_genus, preds_genus)\n",
    "print('Hamming Loss              : ' + str(h_genus))"
   ]
  },
  {
   "cell_type": "markdown",
   "metadata": {},
   "source": [
    "        - Species"
   ]
  },
  {
   "cell_type": "code",
   "execution_count": 16,
   "metadata": {},
   "outputs": [
    {
     "data": {
      "text/plain": [
       "GridSearchCV(cv=KFold(n_splits=10, random_state=None, shuffle=False),\n",
       "       error_score='raise-deprecating',\n",
       "       estimator=OneVsRestClassifier(estimator=SVC(C=1.0, cache_size=200, class_weight=None, coef0=0.0,\n",
       "  decision_function_shape='ovr', degree=3, gamma='auto_deprecated',\n",
       "  kernel='rbf', max_iter=-1, probability=False, random_state=None,\n",
       "  shrinking=True, tol=0.1, verbose=False),\n",
       "          n_jobs=None),\n",
       "       fit_params=None, iid='warn', n_jobs=5,\n",
       "       param_grid={'estimator__C': [0.001, 0.01, 0.1, 1, 10, 100, 1000, 10000, 1000000], 'estimator__gamma': [1e-05, 0.0001, 0.001, 0.01, 0.1, 0.5, 1, 10, 100]},\n",
       "       pre_dispatch='2*n_jobs', refit=True, return_train_score='warn',\n",
       "       scoring=None, verbose=0)"
      ]
     },
     "execution_count": 16,
     "metadata": {},
     "output_type": "execute_result"
    }
   ],
   "source": [
    "gsc = GridSearchCV(model, parameters, cv=k_folds, n_jobs=5)\n",
    "gsc.fit(X_train, y_train_species)"
   ]
  },
  {
   "cell_type": "code",
   "execution_count": 17,
   "metadata": {},
   "outputs": [
    {
     "name": "stdout",
     "output_type": "stream",
     "text": [
      "Weight of the SVM penalty : {'estimator__C': 10, 'estimator__gamma': 1}\n",
      "Best Score                : 0.990667196187\n",
      "Width of Gaussian Kernel  : 0.707106781187\n",
      "Exact match               : 0.990273274664\n",
      "Hamming Loss              : 0.0097267253358\n"
     ]
    }
   ],
   "source": [
    "print(\"Weight of the SVM penalty : \" + str(gsc.best_params_)) \n",
    "print(\"Best Score                : \" + str(gsc.best_score_)) \n",
    "width=1/(np.sqrt(2*gsc.best_params_.get('estimator__gamma')))\n",
    "print(\"Width of Gaussian Kernel  : \" + str(width)) \n",
    "\n",
    "preds_species = gsc.predict(X_test)\n",
    "score_species = accuracy_score(y_test_species, preds_species)\n",
    "\n",
    "print(\"Exact match               : \" + str(score_species))\n",
    "h_species = hamming_loss(y_test_species, preds_species)\n",
    "print('Hamming Loss              : ' + str(h_species))"
   ]
  },
  {
   "cell_type": "markdown",
   "metadata": {},
   "source": [
    "        - Average"
   ]
  },
  {
   "cell_type": "code",
   "execution_count": 26,
   "metadata": {},
   "outputs": [
    {
     "name": "stdout",
     "output_type": "stream",
     "text": [
      "Average Hamming Loss     : 0.0097267253358\n",
      "Average exact match loss : 0.0138953219083\n"
     ]
    }
   ],
   "source": [
    "from __future__ import division\n",
    "\n",
    "correct=0\n",
    "wrong=0\n",
    "\n",
    "for i in range(0,len(y_test_family)):\n",
    "    if((preds_family[i]==y_test_family.iloc[i][0]) and (preds_species[i] == y_test_species.iloc[i][0]) and (preds_genus[i]==y_test_genus.iloc[i][0])):\n",
    "        correct = correct + 1\n",
    "    else:\n",
    "        wrong = wrong + 1\n",
    "\n",
    "avg_exact = wrong / len(y_test_family)\n",
    "h_average = (h_family + h_genus + h_genus) / 3\n",
    "\n",
    "print(\"Average Hamming Loss     : \" + str(h_average))\n",
    "print(\"Average exact match loss : \" + str(avg_exact))"
   ]
  },
  {
   "cell_type": "markdown",
   "metadata": {},
   "source": [
    "- iii. Repeat 1(b)ii and L1-penalized SVMs. Remember to standardize the attributes"
   ]
  },
  {
   "cell_type": "code",
   "execution_count": 65,
   "metadata": {
    "collapsed": true
   },
   "outputs": [],
   "source": [
    "from sklearn.svm import LinearSVC \n",
    "k_folds = KFold(10)\n",
    "parameters={'C':[0.1,0.01,1,10,100,1000,10000]}\n",
    "model_l1 = LinearSVC(penalty= 'l1', dual = False)"
   ]
  },
  {
   "cell_type": "code",
   "execution_count": 66,
   "metadata": {},
   "outputs": [],
   "source": [
    "from sklearn import preprocessing\n",
    "df = frog_data\n",
    "x = df.drop([\"Family\",\"Genus\",\"Species\"],axis=1)\n",
    "x = preprocessing.normalize(x)\n",
    "\n",
    "X_train, X_test, y_train, y_test = train_test_split(x, df.iloc[:,22:], test_size=0.3)"
   ]
  },
  {
   "cell_type": "markdown",
   "metadata": {},
   "source": [
    "        - Family"
   ]
  },
  {
   "cell_type": "code",
   "execution_count": 67,
   "metadata": {},
   "outputs": [
    {
     "data": {
      "text/plain": [
       "GridSearchCV(cv=KFold(n_splits=10, random_state=None, shuffle=False),\n",
       "       error_score='raise-deprecating',\n",
       "       estimator=LinearSVC(C=1.0, class_weight=None, dual=False, fit_intercept=True,\n",
       "     intercept_scaling=1, loss='squared_hinge', max_iter=1000,\n",
       "     multi_class='ovr', penalty='l1', random_state=None, tol=0.0001,\n",
       "     verbose=0),\n",
       "       fit_params=None, iid='warn', n_jobs=None,\n",
       "       param_grid={'C': [0.1, 0.01, 1, 10, 100, 1000, 10000]},\n",
       "       pre_dispatch='2*n_jobs', refit=True, return_train_score='warn',\n",
       "       scoring=None, verbose=0)"
      ]
     },
     "execution_count": 67,
     "metadata": {},
     "output_type": "execute_result"
    }
   ],
   "source": [
    "gsc = GridSearchCV(model_l1, parameters, cv=k_folds)\n",
    "gsc.fit(X_train, y_train['Family'])"
   ]
  },
  {
   "cell_type": "code",
   "execution_count": 69,
   "metadata": {},
   "outputs": [
    {
     "name": "stdout",
     "output_type": "stream",
     "text": [
      "Weight of the SVM penalty : {'C': 100}\n",
      "Best Score                : 0.963661636219\n",
      "Exact match               : 0.966188050023\n",
      "Hamming Loss              : 0.0338119499768\n"
     ]
    }
   ],
   "source": [
    "preds_family = gsc.predict(X_test)\n",
    "score = accuracy_score(y_test['Family'], preds_family)\n",
    "h_family = hamming_loss(y_test['Family'], preds_family)\n",
    "\n",
    "print(\"Weight of the SVM penalty : \" + str(gsc.best_params_)) \n",
    "print(\"Best Score                : \" + str(gsc.best_score_)) \n",
    "print(\"Exact match               : \" + str(score))\n",
    "print('Hamming Loss              : ' + str(h_family))"
   ]
  },
  {
   "cell_type": "markdown",
   "metadata": {},
   "source": [
    "        - Genus"
   ]
  },
  {
   "cell_type": "code",
   "execution_count": 70,
   "metadata": {},
   "outputs": [
    {
     "data": {
      "text/plain": [
       "GridSearchCV(cv=KFold(n_splits=10, random_state=None, shuffle=False),\n",
       "       error_score='raise-deprecating',\n",
       "       estimator=LinearSVC(C=1.0, class_weight=None, dual=False, fit_intercept=True,\n",
       "     intercept_scaling=1, loss='squared_hinge', max_iter=1000,\n",
       "     multi_class='ovr', penalty='l1', random_state=None, tol=0.0001,\n",
       "     verbose=0),\n",
       "       fit_params=None, iid='warn', n_jobs=None,\n",
       "       param_grid={'C': [0.1, 0.01, 1, 10, 100, 1000, 10000]},\n",
       "       pre_dispatch='2*n_jobs', refit=True, return_train_score='warn',\n",
       "       scoring=None, verbose=0)"
      ]
     },
     "execution_count": 70,
     "metadata": {},
     "output_type": "execute_result"
    }
   ],
   "source": [
    "gsc = GridSearchCV(model_l1, parameters, cv=k_folds)\n",
    "gsc.fit(X_train, y_train['Genus'])"
   ]
  },
  {
   "cell_type": "code",
   "execution_count": 71,
   "metadata": {},
   "outputs": [
    {
     "name": "stdout",
     "output_type": "stream",
     "text": [
      "Weight of the SVM penalty : {'C': 1000}\n",
      "Best Score                : 0.974781572677\n",
      "Exact match               : 0.974525243168\n",
      "Hamming Loss              : 0.0254747568319\n"
     ]
    }
   ],
   "source": [
    "preds_genus = gsc.predict(X_test)\n",
    "score_genus = accuracy_score(y_test['Genus'], preds_genus)\n",
    "h_genus = hamming_loss(y_test['Genus'], preds_genus)\n",
    "\n",
    "print(\"Weight of the SVM penalty : \" + str(gsc.best_params_)) \n",
    "print(\"Best Score                : \" + str(gsc.best_score_)) \n",
    "print(\"Exact match               : \" + str(score_genus))\n",
    "print('Hamming Loss              : ' + str(h_genus))"
   ]
  },
  {
   "cell_type": "markdown",
   "metadata": {},
   "source": [
    "        - Species"
   ]
  },
  {
   "cell_type": "code",
   "execution_count": 72,
   "metadata": {},
   "outputs": [
    {
     "data": {
      "text/plain": [
       "GridSearchCV(cv=KFold(n_splits=10, random_state=None, shuffle=False),\n",
       "       error_score='raise-deprecating',\n",
       "       estimator=LinearSVC(C=1.0, class_weight=None, dual=False, fit_intercept=True,\n",
       "     intercept_scaling=1, loss='squared_hinge', max_iter=1000,\n",
       "     multi_class='ovr', penalty='l1', random_state=None, tol=0.0001,\n",
       "     verbose=0),\n",
       "       fit_params=None, iid='warn', n_jobs=None,\n",
       "       param_grid={'C': [0.1, 0.01, 1, 10, 100, 1000, 10000]},\n",
       "       pre_dispatch='2*n_jobs', refit=True, return_train_score='warn',\n",
       "       scoring=None, verbose=0)"
      ]
     },
     "execution_count": 72,
     "metadata": {},
     "output_type": "execute_result"
    }
   ],
   "source": [
    "gsc = GridSearchCV(model_l1, parameters, cv=k_folds)\n",
    "gsc.fit(X_train, y_train['Species'])"
   ]
  },
  {
   "cell_type": "code",
   "execution_count": 73,
   "metadata": {},
   "outputs": [
    {
     "name": "stdout",
     "output_type": "stream",
     "text": [
      "Weight of the SVM penalty : {'C': 1000}\n",
      "Best Score                : 0.977561556791\n",
      "Exact match               : 0.98332561371\n",
      "Hamming Loss              : 0.0166743862899\n"
     ]
    }
   ],
   "source": [
    "preds_species = gsc.predict(X_test)\n",
    "score_species = accuracy_score(y_test['Species'], preds_species)\n",
    "h_species = hamming_loss(y_test['Species'], preds_species)\n",
    "\n",
    "print(\"Weight of the SVM penalty : \" + str(gsc.best_params_)) \n",
    "print(\"Best Score                : \" + str(gsc.best_score_)) \n",
    "print(\"Exact match               : \" + str(score_species))\n",
    "print('Hamming Loss              : ' + str(h_species))"
   ]
  },
  {
   "cell_type": "code",
   "execution_count": 74,
   "metadata": {},
   "outputs": [
    {
     "name": "stdout",
     "output_type": "stream",
     "text": [
      "Average Hamming Loss     : 0.0282538212135\n",
      "Average exact match loss : 0.048633626679\n"
     ]
    }
   ],
   "source": [
    "correct=0\n",
    "wrong=0\n",
    "\n",
    "for i in range(0,len(y_test_family)):\n",
    "    if((preds_family[i]==y_test['Family'].iloc[i]) and (preds_species[i] == y_test['Species'].iloc[i]) and (preds_genus[i]==y_test['Genus'].iloc[i])):\n",
    "        correct = correct + 1\n",
    "    else:\n",
    "        wrong = wrong + 1\n",
    "\n",
    "avg_exact = wrong / len(y_test_family)\n",
    "h_average = (h_family + h_genus + h_genus) / 3\n",
    "\n",
    "print(\"Average Hamming Loss     : \" + str(h_average))\n",
    "print(\"Average exact match loss : \" + str(avg_exact))"
   ]
  },
  {
   "cell_type": "markdown",
   "metadata": {},
   "source": [
    "- iv. Repeat 1(b)iii by using SMOTE or any other method you know to remedy class imbalance. Report your conclusions about the classifiers you trained."
   ]
  },
  {
   "cell_type": "code",
   "execution_count": 55,
   "metadata": {
    "collapsed": true
   },
   "outputs": [],
   "source": [
    "from imblearn.over_sampling import SMOTE\n",
    "sm = SMOTE()\n",
    "X_train_smote_family, y_train_smote_family = sm.fit_sample(X_train, y_train[\"Family\"])\n",
    "y_train_smote_family = pd.DataFrame(y_train_smote_family) \n",
    "\n",
    "X_train_smote_genus, y_train_smote_genus = sm.fit_sample(X_train, y_train[\"Genus\"])\n",
    "y_train_smote_genus = pd.DataFrame(y_train_smote_genus) \n",
    "\n",
    "X_train_smote_species, y_train_smote_species = sm.fit_sample(X_train, y_train[\"Species\"])\n",
    "y_train_smote_species = pd.DataFrame(y_train_smote_species) \n",
    "\n",
    "clf = (LinearSVC(penalty='l1', dual=False))\n",
    "parameters={'C':[0.1,0.01,1,10,100,1000,10000]}\n",
    "\n",
    "model_l1 = LinearSVC(penalty= 'l1', dual = False)"
   ]
  },
  {
   "cell_type": "markdown",
   "metadata": {},
   "source": [
    "        - Family "
   ]
  },
  {
   "cell_type": "code",
   "execution_count": 56,
   "metadata": {},
   "outputs": [
    {
     "data": {
      "text/plain": [
       "GridSearchCV(cv=KFold(n_splits=10, random_state=None, shuffle=False),\n",
       "       error_score='raise-deprecating',\n",
       "       estimator=LinearSVC(C=1.0, class_weight=None, dual=False, fit_intercept=True,\n",
       "     intercept_scaling=1, loss='squared_hinge', max_iter=1000,\n",
       "     multi_class='ovr', penalty='l1', random_state=None, tol=0.0001,\n",
       "     verbose=0),\n",
       "       fit_params=None, iid='warn', n_jobs=5,\n",
       "       param_grid={'C': [0.1, 0.01, 1, 10, 100, 1000, 10000]},\n",
       "       pre_dispatch='2*n_jobs', refit=True, return_train_score='warn',\n",
       "       scoring=None, verbose=0)"
      ]
     },
     "execution_count": 56,
     "metadata": {},
     "output_type": "execute_result"
    }
   ],
   "source": [
    "gsc = GridSearchCV(model_l1, parameters, cv=k_folds, n_jobs=5)\n",
    "gsc.fit(X_train_smote_family, y_train_smote_family)"
   ]
  },
  {
   "cell_type": "code",
   "execution_count": 57,
   "metadata": {},
   "outputs": [
    {
     "name": "stdout",
     "output_type": "stream",
     "text": [
      "Weight of the SVM penalty : {'C': 10000}\n",
      "Best Score                : 0.951966112532\n",
      "Exact match               : 0.944418712367\n",
      "Hamming Loss              : 0.0555812876332\n"
     ]
    }
   ],
   "source": [
    "preds_family = gsc.predict(X_test)\n",
    "score = accuracy_score(y_test['Family'], preds_family)\n",
    "h_family = hamming_loss(y_test['Family'], preds_family)\n",
    "\n",
    "print(\"Weight of the SVM penalty : \" + str(gsc.best_params_)) \n",
    "print(\"Best Score                : \" + str(gsc.best_score_)) \n",
    "print(\"Exact match               : \" + str(score))\n",
    "print('Hamming Loss              : ' + str(h_family))"
   ]
  },
  {
   "cell_type": "markdown",
   "metadata": {},
   "source": [
    "        - Genus"
   ]
  },
  {
   "cell_type": "code",
   "execution_count": 58,
   "metadata": {},
   "outputs": [
    {
     "data": {
      "text/plain": [
       "GridSearchCV(cv=KFold(n_splits=10, random_state=None, shuffle=False),\n",
       "       error_score='raise-deprecating',\n",
       "       estimator=LinearSVC(C=1.0, class_weight=None, dual=False, fit_intercept=True,\n",
       "     intercept_scaling=1, loss='squared_hinge', max_iter=1000,\n",
       "     multi_class='ovr', penalty='l1', random_state=None, tol=0.0001,\n",
       "     verbose=0),\n",
       "       fit_params=None, iid='warn', n_jobs=5,\n",
       "       param_grid={'C': [0.1, 0.01, 1, 10, 100, 1000, 10000]},\n",
       "       pre_dispatch='2*n_jobs', refit=True, return_train_score='warn',\n",
       "       scoring=None, verbose=0)"
      ]
     },
     "execution_count": 58,
     "metadata": {},
     "output_type": "execute_result"
    }
   ],
   "source": [
    "gsc = GridSearchCV(model_l1, parameters, cv=k_folds, n_jobs=5)\n",
    "gsc.fit(X_train_smote_genus, y_train_smote_genus)"
   ]
  },
  {
   "cell_type": "code",
   "execution_count": 59,
   "metadata": {},
   "outputs": [
    {
     "name": "stdout",
     "output_type": "stream",
     "text": [
      "Weight of the SVM penalty : {'C': 1000}\n",
      "Best Score                : 0.955661664393\n",
      "Exact match               : 0.966188050023\n",
      "Hamming Loss              : 0.0338119499768\n"
     ]
    }
   ],
   "source": [
    "preds_genus = gsc.predict(X_test)\n",
    "score_genus = accuracy_score(y_test['Genus'], preds_genus)\n",
    "h_genus = hamming_loss(y_test['Genus'], preds_genus)\n",
    "\n",
    "print(\"Weight of the SVM penalty : \" + str(gsc.best_params_)) \n",
    "print(\"Best Score                : \" + str(gsc.best_score_)) \n",
    "print(\"Exact match               : \" + str(score_genus))\n",
    "print('Hamming Loss              : ' + str(h_genus))"
   ]
  },
  {
   "cell_type": "markdown",
   "metadata": {},
   "source": [
    "        - Species"
   ]
  },
  {
   "cell_type": "code",
   "execution_count": 60,
   "metadata": {},
   "outputs": [
    {
     "data": {
      "text/plain": [
       "GridSearchCV(cv=KFold(n_splits=10, random_state=None, shuffle=False),\n",
       "       error_score='raise-deprecating',\n",
       "       estimator=LinearSVC(C=1.0, class_weight=None, dual=False, fit_intercept=True,\n",
       "     intercept_scaling=1, loss='squared_hinge', max_iter=1000,\n",
       "     multi_class='ovr', penalty='l1', random_state=None, tol=0.0001,\n",
       "     verbose=0),\n",
       "       fit_params=None, iid='warn', n_jobs=5,\n",
       "       param_grid={'C': [0.1, 0.01, 1, 10, 100, 1000, 10000]},\n",
       "       pre_dispatch='2*n_jobs', refit=True, return_train_score='warn',\n",
       "       scoring=None, verbose=0)"
      ]
     },
     "execution_count": 60,
     "metadata": {},
     "output_type": "execute_result"
    }
   ],
   "source": [
    "gsc = GridSearchCV(model_l1, parameters, cv=k_folds, n_jobs=5)\n",
    "gsc.fit(X_train_smote_species, y_train_smote_species)"
   ]
  },
  {
   "cell_type": "code",
   "execution_count": 61,
   "metadata": {},
   "outputs": [
    {
     "name": "stdout",
     "output_type": "stream",
     "text": [
      "Weight of the SVM penalty : {'C': 10000}\n",
      "Best Score                : 0.84871270944\n",
      "Exact match               : 0.974988420565\n",
      "Hamming Loss              : 0.0250115794349\n"
     ]
    }
   ],
   "source": [
    "preds_species = gsc.predict(X_test)\n",
    "score_species = accuracy_score(y_test['Species'], preds_species)\n",
    "h_species = hamming_loss(y_test['Species'], preds_species)\n",
    "\n",
    "print(\"Weight of the SVM penalty : \" + str(gsc.best_params_)) \n",
    "print(\"Best Score                : \" + str(gsc.best_score_)) \n",
    "print(\"Exact match               : \" + str(score_species))\n",
    "print('Hamming Loss              : ' + str(h_species))"
   ]
  },
  {
   "cell_type": "markdown",
   "metadata": {},
   "source": [
    "        - Average"
   ]
  },
  {
   "cell_type": "code",
   "execution_count": 64,
   "metadata": {},
   "outputs": [
    {
     "name": "stdout",
     "output_type": "stream",
     "text": [
      "Average Hamming Loss     : 0.0410683958623\n",
      "Average exact match loss : 0.0745715609078\n"
     ]
    }
   ],
   "source": [
    "correct=0\n",
    "wrong=0\n",
    "\n",
    "for i in range(0,len(y_test_family)):\n",
    "    if((preds_family[i]==y_test['Family'].iloc[i]) and (preds_species[i] == y_test['Species'].iloc[i]) and (preds_genus[i]==y_test['Genus'].iloc[i])):\n",
    "        correct = correct + 1\n",
    "    else:\n",
    "        wrong = wrong + 1\n",
    "\n",
    "avg_exact = wrong / len(y_test_family)\n",
    "h_average = (h_family + h_genus + h_genus) / 3\n",
    "\n",
    "print(\"Average Hamming Loss     : \" + str(h_average))\n",
    "print(\"Average exact match loss : \" + str(avg_exact))"
   ]
  },
  {
   "cell_type": "markdown",
   "metadata": {},
   "source": [
    "###### Summary of Classifiers for 3 Different SVM Classifiers\n",
    "- ii) Using Gaussian Kernel and OVA (one-versus-all) Classifier\n",
    "    - Gives the lowest average exact match loss \n",
    "    - Gives the highest best score\n",
    "- iii) L1-penalized SVM \n",
    "    - Gives the lowest average hamming loss \n",
    "- iv) L1-penalized SVM using SMOTE \n",
    "    - Gives worst performance than without SMOTE, in terms of average hamming loss and average exact match loss \n",
    "\n",
    "\n",
    "- Conclusion: \n",
    "    - For all classifiers, the exact match loss is higher than the hamming loss, which proves that the exact match is a stricter metric \n",
    "    - For all of the classifiers, Gaussian Kernel and OVA Classifier (ii) seems to be best as it give the highest best scores for all three labels \n",
    "    - L1-penalized SVM using SMOTE (iv) seems to be an inefficient method since it does not improve the performance. The L1-penalized SVM without SMOTE has a lower average hamming loss and average exact match loss than the one with SMOTE. "
   ]
  },
  {
   "cell_type": "markdown",
   "metadata": {},
   "source": [
    "- v. Extra Practice: Study the Classifier Chain method and apply it to the above problem."
   ]
  },
  {
   "cell_type": "markdown",
   "metadata": {},
   "source": [
    "- vi. Extra Practice: Research how confusion matrices, precision, recall, ROC, and AUC are defined for multi-label classification and compute them for the classifiers you trained in above."
   ]
  },
  {
   "cell_type": "markdown",
   "metadata": {},
   "source": [
    "#### 2.K-Means Clustering on a Multi-Class and Multi-Label Data Set"
   ]
  },
  {
   "cell_type": "markdown",
   "metadata": {},
   "source": [
    "Monte-Carlo Simulation: Perform the following procedures 50 times, and report the average and standard deviation of the 50 Hamming Distances that you calculate."
   ]
  },
  {
   "cell_type": "markdown",
   "metadata": {},
   "source": [
    "(a) Use k-means clustering on the whole Anuran Calls (MFCCs) Data Set (do not split the data into train and test, as we are not performing supervised learning in this exercise). Choose k automatically based on one of the methods provided in the slides (CH or Gap Statistics or scree plots or Silhouettes) or any other method you know."
   ]
  },
  {
   "cell_type": "code",
   "execution_count": 75,
   "metadata": {},
   "outputs": [
    {
     "name": "stdout",
     "output_type": "stream",
     "text": [
      "Best K selected using Silhouette Analysis: k = 4\n"
     ]
    }
   ],
   "source": [
    "from sklearn.cluster import KMeans \n",
    "from sklearn.metrics import silhouette_score\n",
    "\n",
    "X_data = frog_data.iloc[:,:-4]\n",
    "y_Family = pd.DataFrame(frog_data['Family'])\n",
    "y_Genus = pd.DataFrame(frog_data['Genus'])\n",
    "y_Species = pd.DataFrame(frog_data['Species'])\n",
    "\n",
    "k_vals = np.arange(2, 20)\n",
    "\n",
    "s_result = [] \n",
    "for k in k_vals:\n",
    "    kmeans = KMeans(n_clusters = k).fit(X_data)\n",
    "    preds = kmeans.predict(X_data)\n",
    "    s_score = silhouette_score(X_data, preds)\n",
    "    s_result.append(s_score)\n",
    "best_k = np.argmax(s_result) + 2 # since we start at 2 for k_vals\n",
    "print(\"Best K selected using Silhouette Analysis: k = \" + str(best_k))"
   ]
  },
  {
   "cell_type": "code",
   "execution_count": 76,
   "metadata": {
    "collapsed": true
   },
   "outputs": [],
   "source": [
    "kmeans_bestk = KMeans(n_clusters = best_k).fit(X_data)\n",
    "clusters = kmeans_bestk.labels_ \n",
    "cluster0 = np.argwhere(clusters == 0)\n",
    "cluster1 = np.argwhere(clusters == 1)\n",
    "cluster2 = np.argwhere(clusters == 2)\n",
    "cluster3 = np.argwhere(clusters == 3)"
   ]
  },
  {
   "cell_type": "markdown",
   "metadata": {},
   "source": [
    "    - Family"
   ]
  },
  {
   "cell_type": "code",
   "execution_count": 80,
   "metadata": {},
   "outputs": [
    {
     "name": "stdout",
     "output_type": "stream",
     "text": [
      "Cluster 1: \n",
      "Hylidae            1248\n",
      "Leptodactylidae     630\n",
      "Bufonidae            66\n",
      "Dendrobatidae        39\n",
      "Name: Family, dtype: int64\n",
      "\n",
      "Cluster 2:\n",
      "Leptodactylidae    3467\n",
      "Hylidae             101\n",
      "Name: Family, dtype: int64\n",
      "\n",
      "Cluster 3:\n",
      "Hylidae            587\n",
      "Leptodactylidae     21\n",
      "Bufonidae            2\n",
      "Name: Family, dtype: int64\n",
      "\n",
      "Cluster 4:\n",
      "Dendrobatidae      503\n",
      "Leptodactylidae    302\n",
      "Hylidae            229\n",
      "Name: Family, dtype: int64\n"
     ]
    }
   ],
   "source": [
    "cluster0_fam = y_Family.iloc[cluster0.ravel()]\n",
    "cluster0_fam_counts = cluster0_fam['Family'].value_counts()\n",
    "\n",
    "cluster1_fam = y_Family.iloc[cluster1.ravel()]\n",
    "cluster1_fam_counts = cluster1_fam['Family'].value_counts()\n",
    "\n",
    "cluster2_fam = y_Family.iloc[cluster2.ravel()]\n",
    "cluster2_fam_counts = cluster2_fam['Family'].value_counts()\n",
    "\n",
    "cluster3_fam = y_Family.iloc[cluster3.ravel()]\n",
    "cluster3_fam_counts = cluster3_fam['Family'].value_counts()\n",
    "\n",
    "\n",
    "print(\"Cluster 1: \")\n",
    "print(cluster0_fam_counts)\n",
    "print(\"\")\n",
    "print(\"Cluster 2:\")\n",
    "print(cluster1_fam_counts)\n",
    "print(\"\")\n",
    "print(\"Cluster 3:\")\n",
    "print(cluster2_fam_counts)\n",
    "print(\"\")\n",
    "print(\"Cluster 4:\")\n",
    "print(cluster3_fam_counts)"
   ]
  },
  {
   "cell_type": "markdown",
   "metadata": {},
   "source": [
    "    - Genus"
   ]
  },
  {
   "cell_type": "code",
   "execution_count": 82,
   "metadata": {},
   "outputs": [
    {
     "name": "stdout",
     "output_type": "stream",
     "text": [
      "Cluster 1: \n",
      "Hypsiboas        1040\n",
      "Adenomera         376\n",
      "Leptodactylus     254\n",
      "Scinax             96\n",
      "Osteocephalus      77\n",
      "Rhinella           66\n",
      "Ameerega           39\n",
      "Dendropsophus      35\n",
      "Name: Genus, dtype: int64\n",
      "\n",
      "Cluster 2:\n",
      "Adenomera        3466\n",
      "Dendropsophus      86\n",
      "Hypsiboas          12\n",
      "Scinax              3\n",
      "Leptodactylus       1\n",
      "Name: Genus, dtype: int64\n",
      "\n",
      "Cluster 3:\n",
      "Hypsiboas        540\n",
      "Osteocephalus     37\n",
      "Adenomera         12\n",
      "Scinax            10\n",
      "Leptodactylus      9\n",
      "Rhinella           2\n",
      "Name: Genus, dtype: int64\n",
      "\n",
      "Cluster 4:\n",
      "Ameerega         503\n",
      "Adenomera        296\n",
      "Dendropsophus    189\n",
      "Scinax            39\n",
      "Leptodactylus      6\n",
      "Hypsiboas          1\n",
      "Name: Genus, dtype: int64\n"
     ]
    }
   ],
   "source": [
    "cluster0_gen = y_Genus.iloc[cluster0.ravel()]\n",
    "cluster0_gen_counts = cluster0_gen['Genus'].value_counts()\n",
    "\n",
    "cluster1_gen = y_Genus.iloc[cluster1.ravel()]\n",
    "cluster1_gen_counts = cluster1_gen['Genus'].value_counts()\n",
    "\n",
    "cluster2_gen = y_Genus.iloc[cluster2.ravel()]\n",
    "cluster2_gen_counts = cluster2_gen['Genus'].value_counts()\n",
    "\n",
    "cluster3_gen = y_Genus.iloc[cluster3.ravel()]\n",
    "cluster3_gen_counts = cluster3_gen['Genus'].value_counts()\n",
    "\n",
    "\n",
    "print(\"Cluster 1: \")\n",
    "print(cluster0_gen_counts)\n",
    "print(\"\")\n",
    "print(\"Cluster 2:\")\n",
    "print(cluster1_gen_counts)\n",
    "print(\"\")\n",
    "print(\"Cluster 3:\")\n",
    "print(cluster2_gen_counts)\n",
    "print(\"\")\n",
    "print(\"Cluster 4:\")\n",
    "print(cluster3_gen_counts)"
   ]
  },
  {
   "cell_type": "markdown",
   "metadata": {},
   "source": [
    "    - Species"
   ]
  },
  {
   "cell_type": "code",
   "execution_count": 83,
   "metadata": {},
   "outputs": [
    {
     "name": "stdout",
     "output_type": "stream",
     "text": [
      "Cluster 1: \n",
      "HypsiboasCordobae         1020\n",
      "AdenomeraAndre             370\n",
      "LeptodactylusFuscus        254\n",
      "ScinaxRuber                 96\n",
      "OsteocephalusOophagus       77\n",
      "Rhinellagranulosa           66\n",
      "Ameeregatrivittata          39\n",
      "HylaMinuta                  35\n",
      "HypsiboasCinerascens        20\n",
      "AdenomeraHylaedactylus       6\n",
      "Name: Species, dtype: int64\n",
      "\n",
      "Cluster 2:\n",
      "AdenomeraHylaedactylus    3466\n",
      "HylaMinuta                  86\n",
      "HypsiboasCordobae           12\n",
      "ScinaxRuber                  3\n",
      "LeptodactylusFuscus          1\n",
      "Name: Species, dtype: int64\n",
      "\n",
      "Cluster 3:\n",
      "HypsiboasCinerascens      452\n",
      "HypsiboasCordobae          88\n",
      "OsteocephalusOophagus      37\n",
      "ScinaxRuber                10\n",
      "LeptodactylusFuscus         9\n",
      "AdenomeraHylaedactylus      6\n",
      "AdenomeraAndre              6\n",
      "Rhinellagranulosa           2\n",
      "Name: Species, dtype: int64\n",
      "\n",
      "Cluster 4:\n",
      "Ameeregatrivittata     503\n",
      "AdenomeraAndre         296\n",
      "HylaMinuta             189\n",
      "ScinaxRuber             39\n",
      "LeptodactylusFuscus      6\n",
      "HypsiboasCordobae        1\n",
      "Name: Species, dtype: int64\n"
     ]
    }
   ],
   "source": [
    "cluster0_species = y_Species.iloc[cluster0.ravel()]\n",
    "cluster0_species_counts = cluster0_species['Species'].value_counts()\n",
    "\n",
    "cluster1_species = y_Species.iloc[cluster1.ravel()]\n",
    "cluster1_species_counts = cluster1_species['Species'].value_counts()\n",
    "\n",
    "cluster2_species = y_Species.iloc[cluster2.ravel()]\n",
    "cluster2_species_counts = cluster2_species['Species'].value_counts()\n",
    "\n",
    "cluster3_species = y_Species.iloc[cluster3.ravel()]\n",
    "cluster3_species_counts = cluster3_species['Species'].value_counts()\n",
    "\n",
    "\n",
    "print(\"Cluster 1: \")\n",
    "print(cluster0_species_counts)\n",
    "print(\"\")\n",
    "print(\"Cluster 2:\")\n",
    "print(cluster1_species_counts)\n",
    "print(\"\")\n",
    "print(\"Cluster 3:\")\n",
    "print(cluster2_species_counts)\n",
    "print(\"\")\n",
    "print(\"Cluster 4:\")\n",
    "print(cluster3_species_counts)"
   ]
  },
  {
   "cell_type": "markdown",
   "metadata": {},
   "source": [
    "(b) In each cluster, determine which family is the majority by reading the true labels. Repeat for genus and species."
   ]
  },
  {
   "cell_type": "markdown",
   "metadata": {},
   "source": [
    "    - Family"
   ]
  },
  {
   "cell_type": "code",
   "execution_count": 90,
   "metadata": {},
   "outputs": [
    {
     "name": "stdout",
     "output_type": "stream",
     "text": [
      "Majority Family in Cluster 1: Hylidae\n",
      "Majority Family in Cluster 2: Leptodactylidae\n",
      "Majority Family in Cluster 3: Hylidae\n",
      "Majority Family in Cluster 4: Dendrobatidae\n"
     ]
    }
   ],
   "source": [
    "cluster1_maj_fam = np.argmax(cluster0_fam_counts) \n",
    "cluster2_maj_fam = np.argmax(cluster1_fam_counts) \n",
    "cluster3_maj_fam = np.argmax(cluster2_fam_counts) \n",
    "cluster4_maj_fam = np.argmax(cluster3_fam_counts) \n",
    "\n",
    "print(\"Majority Family in Cluster 1: \" + str(cluster1_maj_fam))\n",
    "print(\"Majority Family in Cluster 2: \" + str(cluster2_maj_fam))\n",
    "print(\"Majority Family in Cluster 3: \" + str(cluster3_maj_fam))\n",
    "print(\"Majority Family in Cluster 4: \" + str(cluster4_maj_fam))"
   ]
  },
  {
   "cell_type": "markdown",
   "metadata": {},
   "source": [
    "    - Genus"
   ]
  },
  {
   "cell_type": "code",
   "execution_count": 91,
   "metadata": {},
   "outputs": [
    {
     "name": "stdout",
     "output_type": "stream",
     "text": [
      "Majority Genus in Cluster 1: Hypsiboas\n",
      "Majority Genus in Cluster 2: Adenomera\n",
      "Majority Genus in Cluster 3: Hypsiboas\n",
      "Majority Genus in Cluster 4: Ameerega\n"
     ]
    }
   ],
   "source": [
    "cluster1_maj_gen = np.argmax(cluster0_gen_counts) \n",
    "cluster2_maj_gen = np.argmax(cluster1_gen_counts) \n",
    "cluster3_maj_gen = np.argmax(cluster2_gen_counts) \n",
    "cluster4_maj_gen = np.argmax(cluster3_gen_counts) \n",
    "\n",
    "print(\"Majority Genus in Cluster 1: \" + str(cluster1_maj_gen))\n",
    "print(\"Majority Genus in Cluster 2: \" + str(cluster2_maj_gen))\n",
    "print(\"Majority Genus in Cluster 3: \" + str(cluster3_maj_gen))\n",
    "print(\"Majority Genus in Cluster 4: \" + str(cluster4_maj_gen))"
   ]
  },
  {
   "cell_type": "markdown",
   "metadata": {},
   "source": [
    "    - Species"
   ]
  },
  {
   "cell_type": "code",
   "execution_count": 92,
   "metadata": {},
   "outputs": [
    {
     "name": "stdout",
     "output_type": "stream",
     "text": [
      "Majority Species in Cluster 1: HypsiboasCordobae\n",
      "Majority Species in Cluster 2: AdenomeraHylaedactylus\n",
      "Majority Species in Cluster 3: HypsiboasCinerascens\n",
      "Majority Species in Cluster 4: Ameeregatrivittata\n"
     ]
    }
   ],
   "source": [
    "cluster1_maj_spe = np.argmax(cluster0_species_counts) \n",
    "cluster2_maj_spe = np.argmax(cluster1_species_counts) \n",
    "cluster3_maj_spe = np.argmax(cluster2_species_counts) \n",
    "cluster4_maj_spe = np.argmax(cluster3_species_counts) \n",
    "\n",
    "print(\"Majority Species in Cluster 1: \" + str(cluster1_maj_spe))\n",
    "print(\"Majority Species in Cluster 2: \" + str(cluster2_maj_spe))\n",
    "print(\"Majority Species in Cluster 3: \" + str(cluster3_maj_spe))\n",
    "print(\"Majority Species in Cluster 4: \" + str(cluster4_maj_spe))"
   ]
  },
  {
   "cell_type": "markdown",
   "metadata": {},
   "source": [
    "(c) Now for each cluster you have a majority label triplet (family, genus, species). Calculate the average Hamming distance (score) between the true labels and the labels assigned by clusters."
   ]
  },
  {
   "cell_type": "code",
   "execution_count": 96,
   "metadata": {},
   "outputs": [
    {
     "name": "stdout",
     "output_type": "stream",
     "text": [
      "Majority Label Triplet (family, genus, species)\n",
      "\n",
      "Cluster 1 Majority Label Triplet :('Hylidae', 'Hypsiboas', 'HypsiboasCordobae')\n",
      "Cluster 2 Majority Label Triplet :('Leptodactylidae', 'Adenomera', 'AdenomeraHylaedactylus')\n",
      "Cluster 3 Majority Label Triplet :('Hylidae', 'Hypsiboas', 'HypsiboasCinerascens')\n",
      "Cluster 4 Majority Label Triplet :('Dendrobatidae', 'Ameerega', 'Ameeregatrivittata')\n"
     ]
    }
   ],
   "source": [
    "(clust1_maj_fam, clust1_maj_gen, clust1_spe) = (cluster1_maj_fam, cluster1_maj_gen, cluster1_maj_spe)\n",
    "(clust2_maj_fam, clust2_maj_gen, clust2_spe) = (cluster2_maj_fam, cluster2_maj_gen, cluster2_maj_spe)\n",
    "(clust3_maj_fam, clust3_maj_gen, clust3_spe) = (cluster3_maj_fam, cluster3_maj_gen, cluster3_maj_spe)\n",
    "(clust4_maj_fam, clust4_maj_gen, clust4_spe) = (cluster4_maj_fam, cluster4_maj_gen, cluster4_maj_spe)\n",
    "\n",
    "print(\"Majority Label Triplet (family, genus, species)\")\n",
    "print(\"\")\n",
    "print(\"Cluster 1 Majority Label Triplet :\" + str((clust1_maj_fam, clust1_maj_gen, clust1_spe)))\n",
    "print(\"Cluster 2 Majority Label Triplet :\" + str((clust2_maj_fam, clust2_maj_gen, clust2_spe)))\n",
    "print(\"Cluster 3 Majority Label Triplet :\" + str((clust3_maj_fam, clust3_maj_gen, clust3_spe)))\n",
    "print(\"Cluster 4 Majority Label Triplet :\" + str((clust4_maj_fam, clust4_maj_gen, clust4_spe)))"
   ]
  },
  {
   "cell_type": "markdown",
   "metadata": {},
   "source": [
    "##### i. Hamming Loss"
   ]
  },
  {
   "cell_type": "code",
   "execution_count": 100,
   "metadata": {},
   "outputs": [],
   "source": [
    "predictions = kmeans_bestk.predict(X_data)\n",
    "\n",
    "pred_family = pd.DataFrame(predictions, columns=['Family'])\n",
    "pred_genus = pd.DataFrame(predictions, columns=['Genus'])\n",
    "pred_species = pd.DataFrame(predictions, columns=['Species'])\n",
    "\n",
    "pred_family = pred_family.replace((0,1,2,3),(clust1_maj_fam, clust2_maj_fam, clust3_maj_fam, clust4_maj_fam))\n",
    "pred_genus = pred_genus.replace((0,1,2,3),(clust1_maj_gen, clust2_maj_gen, clust3_maj_gen, clust4_maj_gen))\n",
    "pred_species = pred_species.replace((0,1,2,3),(clust1_spe, clust2_spe, clust3_spe, clust4_spe))"
   ]
  },
  {
   "cell_type": "code",
   "execution_count": 102,
   "metadata": {},
   "outputs": [
    {
     "name": "stdout",
     "output_type": "stream",
     "text": [
      "Hamming score for family  : 0.19318971508\n",
      "Hamming score for genus   : 0.228769979152\n",
      "Hamming score for species : 0.243780403058\n"
     ]
    }
   ],
   "source": [
    "print(\"Hamming score for Family  : \" + str(hamming_loss(y_Family, pred_family))) \n",
    "print(\"Hamming score for Genus   : \" + str(hamming_loss(y_Genus, pred_genus)))\n",
    "print(\"Hamming score for Species : \" + str(hamming_loss(y_Species, pred_species)))"
   ]
  },
  {
   "cell_type": "markdown",
   "metadata": {},
   "source": [
    "##### ii. Monte-Carlo Simulation"
   ]
  },
  {
   "cell_type": "code",
   "execution_count": 105,
   "metadata": {},
   "outputs": [],
   "source": [
    "# first get k values for the Monte-Carlo Simulation using Silhouette Analysis \n",
    "# k = 4 for all \n",
    "k_monte = [] \n",
    "for i in range(50):\n",
    "\n",
    "    X_data = frog_data.iloc[:,:-4]\n",
    "    y_Family = pd.DataFrame(frog_data['Family'])\n",
    "    y_Genus = pd.DataFrame(frog_data['Genus'])\n",
    "    y_Species = pd.DataFrame(frog_data['Species'])\n",
    "\n",
    "    k_vals = np.arange(2, 20)\n",
    "\n",
    "    s_result = [] \n",
    "    for k in k_vals:\n",
    "        kmeans = KMeans(n_clusters = k).fit(X_data)\n",
    "        preds = kmeans.predict(X_data)\n",
    "        s_score = silhouette_score(X_data, preds)\n",
    "        s_result.append(s_score)\n",
    "    best_k = np.argmax(s_result) + 2 # since we start at 2 for k_vals\n",
    "    k_monte.append(best_k)"
   ]
  },
  {
   "cell_type": "code",
   "execution_count": 109,
   "metadata": {},
   "outputs": [],
   "source": [
    "hamming_dist_fam = [] \n",
    "hamming_dist_gen = [] \n",
    "hamming_dist_spe = [] \n",
    "\n",
    "for this_best_k in k_monte:\n",
    "    kmeans_bestk = KMeans(n_clusters = this_best_k).fit(X_data)\n",
    "    clusters = kmeans_bestk.labels_ \n",
    "    cluster0 = np.argwhere(clusters == 0)\n",
    "    cluster1 = np.argwhere(clusters == 1)\n",
    "    cluster2 = np.argwhere(clusters == 2)\n",
    "    cluster3 = np.argwhere(clusters == 3)\n",
    "    \n",
    "    # family \n",
    "    cluster0_fam = y_Family.iloc[cluster0.ravel()]\n",
    "    cluster0_fam_counts = cluster0_fam['Family'].value_counts()\n",
    "    cluster1_fam = y_Family.iloc[cluster1.ravel()]\n",
    "    cluster1_fam_counts = cluster1_fam['Family'].value_counts()\n",
    "    cluster2_fam = y_Family.iloc[cluster2.ravel()]\n",
    "    cluster2_fam_counts = cluster2_fam['Family'].value_counts()\n",
    "    cluster3_fam = y_Family.iloc[cluster3.ravel()]\n",
    "    cluster3_fam_counts = cluster3_fam['Family'].value_counts()\n",
    "    \n",
    "    # genus \n",
    "    cluster0_gen = y_Genus.iloc[cluster0.ravel()]\n",
    "    cluster0_gen_counts = cluster0_gen['Genus'].value_counts()\n",
    "    cluster1_gen = y_Genus.iloc[cluster1.ravel()]\n",
    "    cluster1_gen_counts = cluster1_gen['Genus'].value_counts()\n",
    "    cluster2_gen = y_Genus.iloc[cluster2.ravel()]\n",
    "    cluster2_gen_counts = cluster2_gen['Genus'].value_counts()\n",
    "    cluster3_gen = y_Genus.iloc[cluster3.ravel()]\n",
    "    cluster3_gen_counts = cluster3_gen['Genus'].value_counts()\n",
    "    \n",
    "    # species \n",
    "    cluster0_species = y_Species.iloc[cluster0.ravel()]\n",
    "    cluster0_species_counts = cluster0_species['Species'].value_counts()\n",
    "    cluster1_species = y_Species.iloc[cluster1.ravel()]\n",
    "    cluster1_species_counts = cluster1_species['Species'].value_counts()\n",
    "    cluster2_species = y_Species.iloc[cluster2.ravel()]\n",
    "    cluster2_species_counts = cluster2_species['Species'].value_counts()\n",
    "    cluster3_species = y_Species.iloc[cluster3.ravel()]\n",
    "    cluster3_species_counts = cluster3_species['Species'].value_counts()\n",
    "    \n",
    "    # get majority for each cluster \n",
    "    \n",
    "    # majority family \n",
    "    cluster1_maj_fam = np.argmax(cluster0_fam_counts) \n",
    "    cluster2_maj_fam = np.argmax(cluster1_fam_counts) \n",
    "    cluster3_maj_fam = np.argmax(cluster2_fam_counts) \n",
    "    cluster4_maj_fam = np.argmax(cluster3_fam_counts) \n",
    "    \n",
    "    # majority genus \n",
    "    cluster1_maj_gen = np.argmax(cluster0_gen_counts) \n",
    "    cluster2_maj_gen = np.argmax(cluster1_gen_counts) \n",
    "    cluster3_maj_gen = np.argmax(cluster2_gen_counts) \n",
    "    cluster4_maj_gen = np.argmax(cluster3_gen_counts) \n",
    "    \n",
    "    # majority species \n",
    "    cluster1_maj_spe = np.argmax(cluster0_species_counts) \n",
    "    cluster2_maj_spe = np.argmax(cluster1_species_counts) \n",
    "    cluster3_maj_spe = np.argmax(cluster2_species_counts) \n",
    "    cluster4_maj_spe = np.argmax(cluster3_species_counts) \n",
    "    \n",
    "    (clust1_maj_fam, clust1_maj_gen, clust1_spe) = (cluster1_maj_fam, cluster1_maj_gen, cluster1_maj_spe)\n",
    "    (clust2_maj_fam, clust2_maj_gen, clust2_spe) = (cluster2_maj_fam, cluster2_maj_gen, cluster2_maj_spe)\n",
    "    (clust3_maj_fam, clust3_maj_gen, clust3_spe) = (cluster3_maj_fam, cluster3_maj_gen, cluster3_maj_spe)\n",
    "    (clust4_maj_fam, clust4_maj_gen, clust4_spe) = (cluster4_maj_fam, cluster4_maj_gen, cluster4_maj_spe)\n",
    "    \n",
    "    \n",
    "    predictions = kmeans_bestk.predict(X_data)\n",
    "    pred_family = pd.DataFrame(predictions, columns=['Family'])\n",
    "    pred_genus = pd.DataFrame(predictions, columns=['Genus'])\n",
    "    pred_species = pd.DataFrame(predictions, columns=['Species'])\n",
    "    \n",
    "    pred_family = pred_family.replace((0,1,2,3),(clust1_maj_fam, clust2_maj_fam, clust3_maj_fam, clust4_maj_fam))\n",
    "    pred_genus = pred_genus.replace((0,1,2,3),(clust1_maj_gen, clust2_maj_gen, clust3_maj_gen, clust4_maj_gen))\n",
    "    pred_species = pred_species.replace((0,1,2,3),(clust1_spe, clust2_spe, clust3_spe, clust4_spe))\n",
    "    \n",
    "    hamming_dist_fam.append(hamming_loss(y_Family, pred_family))\n",
    "    hamming_dist_gen.append(hamming_loss(y_Genus, pred_genus))\n",
    "    hamming_dist_spe.append(hamming_loss(y_Species, pred_species))"
   ]
  },
  {
   "cell_type": "code",
   "execution_count": 113,
   "metadata": {},
   "outputs": [
    {
     "name": "stdout",
     "output_type": "stream",
     "text": [
      "Results for the Monte-Carlo Simulation: \n",
      "Average Hamming Distance and Standard Deviation of 50 Hamming Distances\n",
      "\n",
      "Family:\n",
      "Average Hamming Distance: 0.190612925643\n",
      "Standard Deivation: 0.00807638971338\n",
      "\n",
      "Genus:\n",
      "Average Hamming Distance: 0.232339124392\n",
      "Standard Deivation: 0.00866566776216\n",
      "\n",
      "Species:\n",
      "Average Hamming Distance: 0.249578874218\n",
      "Standard Deivation: 0.015749936161\n"
     ]
    }
   ],
   "source": [
    "print(\"Results for the Monte-Carlo Simulation: \")\n",
    "print(\"Average Hamming Distance and Standard Deviation of 50 Hamming Distances\")\n",
    "print(\"\")\n",
    "print(\"Family:\")\n",
    "print(\"Average Hamming Distance: \" + str(np.mean(hamming_dist_fam)))\n",
    "print(\"Standard Deivation: \" + str(np.std(hamming_dist_fam)))\n",
    "print(\"\")\n",
    "print(\"Genus:\")\n",
    "print(\"Average Hamming Distance: \" + str(np.mean(hamming_dist_gen)))\n",
    "print(\"Standard Deivation: \" + str(np.std(hamming_dist_gen)))\n",
    "print(\"\")\n",
    "print(\"Species:\")\n",
    "print(\"Average Hamming Distance: \" + str(np.mean(hamming_dist_spe)))\n",
    "print(\"Standard Deivation: \" + str(np.std(hamming_dist_spe)))"
   ]
  },
  {
   "cell_type": "markdown",
   "metadata": {},
   "source": [
    "#### 3.ISLR 10.7.2"
   ]
  },
  {
   "cell_type": "code",
   "execution_count": 116,
   "metadata": {},
   "outputs": [
    {
     "data": {
      "image/jpeg": "[encoded data removed]",
      "text/plain": [
       "<IPython.core.display.Image object>"
      ]
     },
     "execution_count": 116,
     "metadata": {},
     "output_type": "execute_result"
    }
   ],
   "source": [
    "from IPython.display import Image\n",
    "Image(filename='islr10_7_2.jpeg')"
   ]
  },
  {
   "cell_type": "markdown",
   "metadata": {},
   "source": [
    "#### 4.Extra Practice: The rest of problems in 10.7."
   ]
  }
 ],
 "metadata": {
  "kernelspec": {
   "display_name": "Python 2",
   "language": "python",
   "name": "python2"
  },
  "language_info": {
   "codemirror_mode": {
    "name": "ipython",
    "version": 2
   },
   "file_extension": ".py",
   "mimetype": "text/x-python",
   "name": "python",
   "nbconvert_exporter": "python",
   "pygments_lexer": "ipython2",
   "version": "2.7.15"
  }
 },
 "nbformat": 4,
 "nbformat_minor": 2
}
