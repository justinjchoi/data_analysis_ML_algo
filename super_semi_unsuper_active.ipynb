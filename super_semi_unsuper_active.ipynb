{
 "cells": [
  {
   "cell_type": "markdown",
   "metadata": {},
   "source": [
    "# Homework 6"
   ]
  },
  {
   "cell_type": "markdown",
   "metadata": {},
   "source": [
    "## INF 552: Machine Learning for Data Informatics"
   ]
  },
  {
   "cell_type": "markdown",
   "metadata": {},
   "source": [
    "### Jungho Choi (junghoch@usc.edu)"
   ]
  },
  {
   "cell_type": "markdown",
   "metadata": {},
   "source": [
    "#### 1. Supervised, Semi-Supervised, and Unsupervised Learning"
   ]
  },
  {
   "cell_type": "markdown",
   "metadata": {},
   "source": [
    "(a) Download the Breast Cancer Wisconsin (Diagnostic) Data Set from: https://archive.ics.uci.edu/ml/datasets/Breast+Cancer+Wisconsin+%28Diagnostic%29. Download the data in https://archive.ics.uci.edu/ml/machine-learning-databases/breast-cancer-wisconsin/wdbc.data, which has IDs, classes (Benign=B, Malignant=M), and 30 attributes. This data has two output classes. Use the first 20% of the positive and negative classes in the file as the test set and the rest as the training set."
   ]
  },
  {
   "cell_type": "code",
   "execution_count": 20,
   "metadata": {},
   "outputs": [],
   "source": [
    "import numpy as np \n",
    "import pandas as pd\n",
    "import matplotlib.pyplot as plt\n",
    "from sklearn.model_selection import train_test_split\n",
    "from sklearn.svm import LinearSVC\n",
    "from sklearn.model_selection import KFold, GridSearchCV\n",
    "from sklearn import preprocessing \n",
    "from sklearn.preprocessing import LabelBinarizer\n",
    "from sklearn.metrics import accuracy_score, confusion_matrix, roc_auc_score, roc_curve, precision_score, recall_score, f1_score\n",
    "import warnings\n",
    "warnings.filterwarnings('ignore')"
   ]
  },
  {
   "cell_type": "code",
   "execution_count": 6,
   "metadata": {},
   "outputs": [
    {
     "data": {
      "text/html": [
       "<div>\n",
       "<table border=\"1\" class=\"dataframe\">\n",
       "  <thead>\n",
       "    <tr style=\"text-align: right;\">\n",
       "      <th></th>\n",
       "      <th>0</th>\n",
       "      <th>1</th>\n",
       "      <th>2</th>\n",
       "      <th>3</th>\n",
       "      <th>4</th>\n",
       "      <th>5</th>\n",
       "      <th>6</th>\n",
       "      <th>7</th>\n",
       "      <th>8</th>\n",
       "      <th>9</th>\n",
       "      <th>...</th>\n",
       "      <th>22</th>\n",
       "      <th>23</th>\n",
       "      <th>24</th>\n",
       "      <th>25</th>\n",
       "      <th>26</th>\n",
       "      <th>27</th>\n",
       "      <th>28</th>\n",
       "      <th>29</th>\n",
       "      <th>30</th>\n",
       "      <th>31</th>\n",
       "    </tr>\n",
       "  </thead>\n",
       "  <tbody>\n",
       "    <tr>\n",
       "      <th>113</th>\n",
       "      <td>864292</td>\n",
       "      <td>B</td>\n",
       "      <td>10.510</td>\n",
       "      <td>20.19</td>\n",
       "      <td>68.64</td>\n",
       "      <td>334.2</td>\n",
       "      <td>0.11220</td>\n",
       "      <td>0.13030</td>\n",
       "      <td>0.06476</td>\n",
       "      <td>0.03068</td>\n",
       "      <td>...</td>\n",
       "      <td>11.160</td>\n",
       "      <td>22.75</td>\n",
       "      <td>72.62</td>\n",
       "      <td>374.4</td>\n",
       "      <td>0.1300</td>\n",
       "      <td>0.2049</td>\n",
       "      <td>0.1295</td>\n",
       "      <td>0.06136</td>\n",
       "      <td>0.2383</td>\n",
       "      <td>0.09026</td>\n",
       "    </tr>\n",
       "    <tr>\n",
       "      <th>114</th>\n",
       "      <td>864496</td>\n",
       "      <td>B</td>\n",
       "      <td>8.726</td>\n",
       "      <td>15.83</td>\n",
       "      <td>55.84</td>\n",
       "      <td>230.9</td>\n",
       "      <td>0.11500</td>\n",
       "      <td>0.08201</td>\n",
       "      <td>0.04132</td>\n",
       "      <td>0.01924</td>\n",
       "      <td>...</td>\n",
       "      <td>9.628</td>\n",
       "      <td>19.62</td>\n",
       "      <td>64.48</td>\n",
       "      <td>284.4</td>\n",
       "      <td>0.1724</td>\n",
       "      <td>0.2364</td>\n",
       "      <td>0.2456</td>\n",
       "      <td>0.10500</td>\n",
       "      <td>0.2926</td>\n",
       "      <td>0.10170</td>\n",
       "    </tr>\n",
       "    <tr>\n",
       "      <th>115</th>\n",
       "      <td>864685</td>\n",
       "      <td>B</td>\n",
       "      <td>11.930</td>\n",
       "      <td>21.53</td>\n",
       "      <td>76.53</td>\n",
       "      <td>438.6</td>\n",
       "      <td>0.09768</td>\n",
       "      <td>0.07849</td>\n",
       "      <td>0.03328</td>\n",
       "      <td>0.02008</td>\n",
       "      <td>...</td>\n",
       "      <td>13.670</td>\n",
       "      <td>26.15</td>\n",
       "      <td>87.54</td>\n",
       "      <td>583.0</td>\n",
       "      <td>0.1500</td>\n",
       "      <td>0.2399</td>\n",
       "      <td>0.1503</td>\n",
       "      <td>0.07247</td>\n",
       "      <td>0.2438</td>\n",
       "      <td>0.08541</td>\n",
       "    </tr>\n",
       "    <tr>\n",
       "      <th>116</th>\n",
       "      <td>864726</td>\n",
       "      <td>B</td>\n",
       "      <td>8.950</td>\n",
       "      <td>15.76</td>\n",
       "      <td>58.74</td>\n",
       "      <td>245.2</td>\n",
       "      <td>0.09462</td>\n",
       "      <td>0.12430</td>\n",
       "      <td>0.09263</td>\n",
       "      <td>0.02308</td>\n",
       "      <td>...</td>\n",
       "      <td>9.414</td>\n",
       "      <td>17.07</td>\n",
       "      <td>63.34</td>\n",
       "      <td>270.0</td>\n",
       "      <td>0.1179</td>\n",
       "      <td>0.1879</td>\n",
       "      <td>0.1544</td>\n",
       "      <td>0.03846</td>\n",
       "      <td>0.1652</td>\n",
       "      <td>0.07722</td>\n",
       "    </tr>\n",
       "    <tr>\n",
       "      <th>117</th>\n",
       "      <td>864729</td>\n",
       "      <td>M</td>\n",
       "      <td>14.870</td>\n",
       "      <td>16.67</td>\n",
       "      <td>98.64</td>\n",
       "      <td>682.5</td>\n",
       "      <td>0.11620</td>\n",
       "      <td>0.16490</td>\n",
       "      <td>0.16900</td>\n",
       "      <td>0.08923</td>\n",
       "      <td>...</td>\n",
       "      <td>18.810</td>\n",
       "      <td>27.37</td>\n",
       "      <td>127.10</td>\n",
       "      <td>1095.0</td>\n",
       "      <td>0.1878</td>\n",
       "      <td>0.4480</td>\n",
       "      <td>0.4704</td>\n",
       "      <td>0.20270</td>\n",
       "      <td>0.3585</td>\n",
       "      <td>0.10650</td>\n",
       "    </tr>\n",
       "  </tbody>\n",
       "</table>\n",
       "<p>5 rows × 32 columns</p>\n",
       "</div>"
      ],
      "text/plain": [
       "         0  1       2      3      4      5        6        7        8   \\\n",
       "113  864292  B  10.510  20.19  68.64  334.2  0.11220  0.13030  0.06476   \n",
       "114  864496  B   8.726  15.83  55.84  230.9  0.11500  0.08201  0.04132   \n",
       "115  864685  B  11.930  21.53  76.53  438.6  0.09768  0.07849  0.03328   \n",
       "116  864726  B   8.950  15.76  58.74  245.2  0.09462  0.12430  0.09263   \n",
       "117  864729  M  14.870  16.67  98.64  682.5  0.11620  0.16490  0.16900   \n",
       "\n",
       "          9    ...         22     23      24      25      26      27      28  \\\n",
       "113  0.03068   ...     11.160  22.75   72.62   374.4  0.1300  0.2049  0.1295   \n",
       "114  0.01924   ...      9.628  19.62   64.48   284.4  0.1724  0.2364  0.2456   \n",
       "115  0.02008   ...     13.670  26.15   87.54   583.0  0.1500  0.2399  0.1503   \n",
       "116  0.02308   ...      9.414  17.07   63.34   270.0  0.1179  0.1879  0.1544   \n",
       "117  0.08923   ...     18.810  27.37  127.10  1095.0  0.1878  0.4480  0.4704   \n",
       "\n",
       "          29      30       31  \n",
       "113  0.06136  0.2383  0.09026  \n",
       "114  0.10500  0.2926  0.10170  \n",
       "115  0.07247  0.2438  0.08541  \n",
       "116  0.03846  0.1652  0.07722  \n",
       "117  0.20270  0.3585  0.10650  \n",
       "\n",
       "[5 rows x 32 columns]"
      ]
     },
     "execution_count": 6,
     "metadata": {},
     "output_type": "execute_result"
    }
   ],
   "source": [
    "wdbc_data = pd.read_csv('wdbc.data', sep=',', header=None, skiprows=0)\n",
    "split_data = train_test_split(wdbc_data, test_size = 0.8, shuffle = False) # since first 20% of data split opposite way than the documentation and don't shuffle \n",
    "test_data = split_data[0]\n",
    "train_data = split_data[1]\n",
    "train_data.head()"
   ]
  },
  {
   "cell_type": "markdown",
   "metadata": {},
   "source": [
    "(b) Monte-Carlo Simulation: Repeat the following procedures for supervised, unsupervised, and semi-supervised learning M = 30 times, and use randomly selected train and test data (make sure you use 20% of both the positve and negative\n",
    "classes as the test set). Then compare the average scores (accuracy, precision, recall, F-score, and AUC) that you obtain from each algorithm."
   ]
  },
  {
   "cell_type": "markdown",
   "metadata": {},
   "source": [
    "- i. Supervised Learning: Train an L1-penalized SVM to classify the data. Use 5 fold cross validation to choose the penalty parameter. Use normalized data. Report the average accuracy, precision, recall, F-score, and AUC, for both training and test sets over your M runs. Plot the ROC and report the confusion matrix for training and testing in one of the runs."
   ]
  },
  {
   "cell_type": "code",
   "execution_count": 7,
   "metadata": {
    "collapsed": true
   },
   "outputs": [],
   "source": [
    "# normalize first \n",
    "df = wdbc_data \n",
    "x = df.drop([0, 1], axis = 1) # remove ID and classes first for normalization \n",
    "x = preprocessing.normalize(x)\n",
    "\n",
    "# binarizer for auc score\n",
    "lb = LabelBinarizer()\n",
    "\n",
    "# model for supervised learning SVM with L1 Penalty \n",
    "k_folds = KFold(5) \n",
    "parameters={'C':[0.1,0.01,1,10,100,1000,10000]}\n",
    "model_supervised = LinearSVC(penalty = 'l1', dual = False)"
   ]
  },
  {
   "cell_type": "code",
   "execution_count": 10,
   "metadata": {},
   "outputs": [],
   "source": [
    "accuracy_train_list = [] \n",
    "accuracy_test_list = [] \n",
    "\n",
    "precision_train_list = [] \n",
    "precision_test_list = [] \n",
    "\n",
    "recall_train_list = [] \n",
    "recall_test_list = [] \n",
    "\n",
    "f1_train_list = [] \n",
    "f1_test_list = [] \n",
    "\n",
    "roc_score_train_list = [] \n",
    "roc_score_test_list = [] \n",
    "\n",
    "for i in range(30):\n",
    "    # divide into necessary parts for each training and testing (X and y)\n",
    "    X_train, X_test, y_train, y_test = train_test_split(x, df.iloc[:,1], test_size=0.2)\n",
    "    \n",
    "    gsc = GridSearchCV(model_supervised, parameters, cv=k_folds)\n",
    "    gsc.fit(X_train, y_train)\n",
    "    \n",
    "    preds_supervised_train = pd.Series(gsc.predict(X_train))\n",
    "    preds_supervised_test = pd.Series(gsc.predict(X_test))\n",
    "    \n",
    "    #accuracy\n",
    "    accuracy_test = accuracy_score(y_test, preds_supervised_test)\n",
    "    accuracy_train = accuracy_score(y_train, preds_supervised_train)\n",
    "    \n",
    "    accuracy_test_list.append(accuracy_test)\n",
    "    accuracy_train_list.append(accuracy_train)\n",
    "    \n",
    "    #precision\n",
    "    precision_test = precision_score(y_test, preds_supervised_test, average = \"binary\", pos_label='B')\n",
    "    precision_train = precision_score(y_train, preds_supervised_train, average = \"binary\", pos_label='B')\n",
    "    \n",
    "    precision_test_list.append(precision_test)\n",
    "    precision_train_list.append(precision_train)\n",
    "    \n",
    "    #recall \n",
    "    recall_test = recall_score(y_test, preds_supervised_test, average = \"binary\", pos_label='B')\n",
    "    recall_train = recall_score(y_train, preds_supervised_train, average = \"binary\", pos_label='B')\n",
    "    \n",
    "    recall_test_list.append(recall_test)\n",
    "    recall_train_list.append(recall_train)\n",
    "    \n",
    "    #f-score\n",
    "    f1_test = f1_score(y_test, preds_supervised_test, average = \"binary\", pos_label='B')\n",
    "    f1_train = f1_score(y_train, preds_supervised_train, average = \"binary\", pos_label='B')\n",
    "    \n",
    "    f1_test_list.append(f1_test)\n",
    "    f1_train_list.append(f1_train)\n",
    "    \n",
    "    #auc \n",
    "    roc_score_test = roc_auc_score(lb.fit_transform(y_test), lb.fit_transform(preds_supervised_test))\n",
    "    roc_score_train = roc_auc_score(lb.fit_transform(y_train), lb.fit_transform(preds_supervised_train))\n",
    "    \n",
    "    roc_score_test_list.append(roc_score_test)\n",
    "    roc_score_train_list.append(roc_score_train)"
   ]
  },
  {
   "cell_type": "code",
   "execution_count": 26,
   "metadata": {},
   "outputs": [
    {
     "name": "stdout",
     "output_type": "stream",
     "text": [
      "Train\n",
      "\n",
      "Average Accuracy: 0.984615384615\n",
      "Average Precision: 0.983932388679\n",
      "Average Recall: 0.991673044545\n",
      "Average F-score: 0.987777030306\n",
      "Average AUC: 0.98213984895\n",
      "\n",
      "Sample Run for Train\n",
      "\n",
      "Confusion Matrix\n",
      "[[274   3]\n",
      " [  5 173]]\n"
     ]
    },
    {
     "data": {
      "image/png": "[encoded data removed]",
      "text/plain": [
       "<Figure size 432x288 with 1 Axes>"
      ]
     },
     "metadata": {
      "needs_background": "light"
     },
     "output_type": "display_data"
    },
    {
     "name": "stdout",
     "output_type": "stream",
     "text": [
      "Area under the curve for ROC Curve above is 0.980539893725\n"
     ]
    }
   ],
   "source": [
    "print(\"Train\")\n",
    "print(\"\")\n",
    "print(\"Average Accuracy: \" + str(np.mean(accuracy_train_list)))\n",
    "print(\"Average Precision: \" + str(np.mean(precision_train_list)))\n",
    "print(\"Average Recall: \" + str(np.mean(recall_train_list)))\n",
    "print(\"Average F-score: \" + str(np.mean(f1_train_list)))\n",
    "print(\"Average AUC: \" + str(np.mean(roc_score_train_list)))\n",
    "print(\"\")\n",
    "\n",
    "print(\"Sample Run for Train\")\n",
    "print(\"\")\n",
    "conf_matrix_train = confusion_matrix(lb.fit_transform(y_train), lb.fit_transform(preds_supervised_train))\n",
    "print(\"Confusion Matrix\")\n",
    "print(conf_matrix_train)\n",
    "fpr_train, tpr_train, thresh_train = roc_curve(lb.fit_transform(y_train), lb.fit_transform(preds_supervised_train))\n",
    "plt.figure() \n",
    "plt.plot(fpr_train, tpr_train)\n",
    "plt.plot([0, 1], [0, 1],'r--')\n",
    "plt.xlabel('False Positive Rate')\n",
    "plt.ylabel('True Positive Rate')\n",
    "plt.show()\n",
    "roc_score_train = roc_auc_score(lb.fit_transform(y_train), lb.fit_transform(preds_supervised_train))\n",
    "print(\"Area under the curve for ROC Curve above is \" + str(roc_score_train))"
   ]
  },
  {
   "cell_type": "code",
   "execution_count": 27,
   "metadata": {},
   "outputs": [
    {
     "name": "stdout",
     "output_type": "stream",
     "text": [
      "Test\n",
      "\n",
      "Accuracy: 0.96432748538\n",
      "Precision: 0.964711338258\n",
      "Recall: 0.979033911772\n",
      "F-score: 0.971635893954\n",
      "AUC: 0.959443775356\n",
      "\n",
      "Sample Run for Test: \n",
      "\n",
      "Confusion Matrix\n",
      "[[80  0]\n",
      " [ 2 32]]\n"
     ]
    },
    {
     "data": {
      "image/png": "[encoded data removed]",
      "text/plain": [
       "<Figure size 432x288 with 1 Axes>"
      ]
     },
     "metadata": {
      "needs_background": "light"
     },
     "output_type": "display_data"
    },
    {
     "name": "stdout",
     "output_type": "stream",
     "text": [
      "Area under the curve for ROC Curve above is 0.970588235294\n"
     ]
    }
   ],
   "source": [
    "print(\"Test\")\n",
    "print(\"\")\n",
    "print(\"Accuracy: \" + str(np.mean(accuracy_test_list)))\n",
    "print(\"Precision: \" + str(np.mean(precision_test_list)))\n",
    "print(\"Recall: \" + str(np.mean(recall_test_list)))\n",
    "print(\"F-score: \" + str(np.mean(f1_test_list)))\n",
    "print(\"AUC: \" + str(np.mean(roc_score_test_list)))\n",
    "print(\"\")\n",
    "\n",
    "print(\"Sample Run for Test: \")\n",
    "print(\"\")\n",
    "conf_matrix_test = confusion_matrix(lb.fit_transform(y_test), lb.fit_transform(preds_supervised_test))\n",
    "print(\"Confusion Matrix\")\n",
    "print(conf_matrix_test)\n",
    "fpr_test, tpr_test, thresh_test = roc_curve(lb.fit_transform(y_test), lb.fit_transform(preds_supervised_test))\n",
    "plt.figure() \n",
    "plt.plot(fpr_test, tpr_test)\n",
    "plt.plot([0, 1], [0, 1],'r--')\n",
    "plt.xlabel('False Positive Rate')\n",
    "plt.ylabel('True Positive Rate')\n",
    "plt.show()\n",
    "roc_score_test = roc_auc_score(lb.fit_transform(y_test), lb.fit_transform(preds_supervised_test))\n",
    "print(\"Area under the curve for ROC Curve above is \" + str(roc_score_test))"
   ]
  },
  {
   "cell_type": "markdown",
   "metadata": {},
   "source": [
    "- ii. Semi-Supervised Learning/ Self-training: select 50% of the positive class along with 50% of the negative class in the training set as labeled data and the rest as unlabelled data. You can select them randomly.\n",
    "\n",
    "    - A. Train an L1-penalized SVM to classify the labeled data. Use normalized data. Choose the penalty parameter using 5 fold cross validation."
   ]
  },
  {
   "cell_type": "code",
   "execution_count": 30,
   "metadata": {
    "collapsed": true
   },
   "outputs": [],
   "source": [
    "# normalize first \n",
    "df = wdbc_data \n",
    "x = df.drop([0, 1], axis = 1) # remove ID and classes first for normalization \n",
    "x = preprocessing.normalize(x)\n",
    "frames = [pd.DataFrame(x), pd.DataFrame(df.iloc[:,1])]\n",
    "x_and_Y = pd.concat(frames, axis = 1)\n",
    "semi_data = train_test_split(x_and_Y, test_size = 0.8, shuffle = False) # since first 20% of data split opposite way than the documentation and don't shuffle \n",
    "semi_data_test = semi_data[0]\n",
    "semi_data_train = semi_data[1]\n",
    "\n",
    "# X, the features are: DATAFRAME.iloc[:,:30]\n",
    "# Y, the target is: DATAFRAME.iloc[:,-1]\n",
    "\n",
    "\n",
    "# split train_data into equal halves \n",
    "semi_data_train_split = train_test_split(semi_data_train, test_size = 0.5)\n",
    "labeled_data = semi_data_train_split[0]\n",
    "unlabeled_data = semi_data_train_split[1]"
   ]
  },
  {
   "cell_type": "code",
   "execution_count": 32,
   "metadata": {},
   "outputs": [
    {
     "name": "stdout",
     "output_type": "stream",
     "text": [
      "L1 Penalty Parameter: C = 10000\n"
     ]
    }
   ],
   "source": [
    "X_labeled_data = labeled_data.iloc[:,:30]\n",
    "y_labeled_data = labeled_data.iloc[:,-1]\n",
    "\n",
    "# model for supervised learning SVM with L1 Penalty \n",
    "k_folds = KFold(5) \n",
    "parameters={'C':[0.1,0.01,1,10,100,1000,10000]}\n",
    "model_supervised = LinearSVC(penalty = 'l1', dual = False)\n",
    "\n",
    "gsc = GridSearchCV(model_supervised, parameters, cv = k_folds)\n",
    "gsc.fit(X_labeled_data, y_labeled_data)\n",
    "# from part A, we got the C parameter using CV \n",
    "# now we want to build a new SVM classifier since we need the coefficients to get the farthest points \n",
    "\n",
    "# 1) get the C parameter that we got using CV \n",
    "c_parameter = gsc.best_params_.get('C')\n",
    "print(\"L1 Penalty Parameter: C = \" + str(c_parameter))"
   ]
  },
  {
   "cell_type": "markdown",
   "metadata": {
    "collapsed": true
   },
   "source": [
    "- \n",
    "\n",
    "    - B. Find the unlabeled data point that is the farthest to the decision boundary of the SVM. Let the SVM label it (ignore its true label), and add it to the labeled data, and retrain the SVM. Continue this process until all unlabeled data are used. Test the final SVM on the test data and the average accuracy, precision, recall, F-score, and AUC, for both training and test sets over your M runs. Plot the ROC and report the confusion matrix for training and testing in one of the runs."
   ]
  },
  {
   "cell_type": "code",
   "execution_count": 34,
   "metadata": {
    "collapsed": true
   },
   "outputs": [],
   "source": [
    "# set up for Monte-Carlo Simulation \n",
    "accuracy_train_list_semi = [] \n",
    "accuracy_test_list_semi = [] \n",
    "\n",
    "precision_train_list_semi = [] \n",
    "precision_test_list_semi = [] \n",
    "\n",
    "recall_train_list_semi = [] \n",
    "recall_test_list_semi = [] \n",
    "\n",
    "f1_train_list_semi = [] \n",
    "f1_test_list_semi = [] \n",
    "\n",
    "roc_score_train_list_semi = [] \n",
    "roc_score_test_list_semi = [] "
   ]
  },
  {
   "cell_type": "code",
   "execution_count": 43,
   "metadata": {},
   "outputs": [],
   "source": [
    "for semi_runs in range(30):\n",
    "    semi_data = train_test_split(x_and_Y, test_size = 0.8, shuffle = False) \n",
    "    semi_data_test = semi_data[0]\n",
    "    semi_data_train = semi_data[1]\n",
    "    \n",
    "    # X, the features are: DATAFRAME.iloc[:,:30]\n",
    "    # Y, the target is: DATAFRAME.iloc[:,-1]\n",
    "    \n",
    "    # split train_data into equal halves \n",
    "    semi_data_train_split = train_test_split(semi_data_train, test_size = 0.5)\n",
    "    labeled_data = semi_data_train_split[0]\n",
    "    unlabeled_data = semi_data_train_split[1]\n",
    "    \n",
    "    # A. \n",
    "    X_labeled_data = labeled_data.iloc[:,:30]\n",
    "    y_labeled_data = labeled_data.iloc[:,-1]\n",
    "    \n",
    "    # model for supervised learning SVM with L1 Penalty \n",
    "    k_folds = KFold(5) \n",
    "    parameters={'C':[0.1,0.01,1,10,100,1000,10000]}\n",
    "    model_supervised = LinearSVC(penalty = 'l1', dual = False)\n",
    "    \n",
    "    gsc = GridSearchCV(model_supervised, parameters, cv = k_folds)\n",
    "    gsc.fit(X_labeled_data, y_labeled_data)\n",
    "    # from part A, we got the C parameter using CV \n",
    "    # now we want to build a new SVM classifier since we need the coefficients to get the farthest points \n",
    "    \n",
    "    \n",
    "    # B. \n",
    "    \n",
    "    # set up for semi-supervised learning \n",
    "    # 1) get the C parameter that we got using CV \n",
    "    c_parameter = gsc.best_params_.get('C')\n",
    "    # 2) initiate a new LinearSVC Classifier \n",
    "    model_semi = LinearSVC(penalty = 'l1', dual = False, C = c_parameter)\n",
    "    # 3) Fit the classifier on the labeled data first (1st step of semi-supervised learning)\n",
    "    model_semi.fit(X_labeled_data, y_labeled_data)\n",
    "    preds_semi_labeled = pd.Series(model_semi.predict(X_labeled_data))\n",
    "    \n",
    "    # now comes the \"unlabeled\" data for semi-supervised learning \n",
    "    X_unlabeled_data = unlabeled_data.iloc[:,:30]\n",
    "    X_unlabeled_data = X_unlabeled_data.reset_index(drop = True)\n",
    "    y_unlabeled_data = unlabeled_data.iloc[:,-1]\n",
    "    y_unlabeled_data = pd.DataFrame(y_unlabeled_data.reset_index(drop = True))\n",
    "    \n",
    "    # now get distance for each test point to the decision boundary from train \n",
    "    y = model_semi.decision_function(X_unlabeled_data)\n",
    "    w_norm = np.linalg.norm(model_semi.coef_)\n",
    "    dist = y / w_norm\n",
    "    dist = np.abs(dist) # abs value to compare \n",
    "    \n",
    "    \n",
    "    new_labeled_X = pd.DataFrame(X_labeled_data)\n",
    "    new_labeled_y = pd.DataFrame(y_labeled_data)\n",
    "    # 228 so label the furthest 19 of them in each run (repeat 12 times)\n",
    "    for semi_run in range(12): \n",
    "        # get indices of the farthest ones \n",
    "        include_in_train = dist.argsort()[-19:][::-1] \n",
    "        # include these indices in the train data set for X and Y\n",
    "        for length_include in range(len(include_in_train)): \n",
    "            new_labeled_X = new_labeled_X.append(X_unlabeled_data.iloc[include_in_train[length_include]])\n",
    "            new_labeled_y = new_labeled_y.append(y_unlabeled_data.iloc[include_in_train[length_include]])\n",
    "        # retrain the model with the new train data set \n",
    "        model_semi = LinearSVC(penalty = 'l1', dual = False, C = c_parameter)\n",
    "        model_semi.fit(new_labeled_X, new_labeled_y)\n",
    "        new_labeled_y = pd.Series(model_semi.predict(new_labeled_X))\n",
    "        \n",
    "    # now give accuracy, roc etc params \n",
    "    \n",
    "    # test data \n",
    "    X_semi_data_test = semi_data_test.iloc[:,:30]\n",
    "    y_semi_data_test = semi_data_test.iloc[:,-1]\n",
    "    \n",
    "    # first get the predictions using the semi-supervised model for both train and test \n",
    "    preds_semi_train = pd.Series(model_semi.predict(new_labeled_X))\n",
    "    preds_semi_test = pd.Series(model_semi.predict(X_semi_data_test))\n",
    "    \n",
    "    # accuracy \n",
    "    accuracy_test_semi = accuracy_score(y_semi_data_test, preds_semi_test)\n",
    "    accuracy_train_semi = accuracy_score(new_labeled_y, preds_semi_train)\n",
    "    \n",
    "    accuracy_test_list_semi.append(accuracy_test_semi)\n",
    "    accuracy_train_list_semi.append(accuracy_train_semi)\n",
    "    \n",
    "    #precision\n",
    "    precision_test_semi = precision_score(y_semi_data_test, preds_semi_test, average = \"binary\", pos_label='B')\n",
    "    precision_train_semi = precision_score(new_labeled_y, preds_semi_train, average = \"binary\", pos_label='B')\n",
    "    \n",
    "    precision_test_list_semi.append(precision_test_semi)\n",
    "    precision_train_list_semi.append(precision_train_semi)\n",
    "    \n",
    "    #recall \n",
    "    recall_test_semi = recall_score(y_semi_data_test, preds_semi_test, average = \"binary\", pos_label='B')\n",
    "    recall_train_semi = recall_score(new_labeled_y, preds_semi_train, average = \"binary\", pos_label='B')\n",
    "    \n",
    "    recall_test_list_semi.append(recall_test_semi)\n",
    "    recall_train_list_semi.append(recall_train_semi)\n",
    "    \n",
    "    #f-score\n",
    "    f1_test_semi = f1_score(y_semi_data_test, preds_semi_test, average = \"binary\", pos_label='B')\n",
    "    f1_train_semi = f1_score(new_labeled_y, preds_semi_train, average = \"binary\", pos_label='B')\n",
    "    \n",
    "    f1_test_list_semi.append(f1_test_semi)\n",
    "    f1_train_list_semi.append(f1_train_semi)\n",
    "    \n",
    "    #auc \n",
    "    roc_score_test_semi = roc_auc_score(lb.fit_transform(y_semi_data_test), lb.fit_transform(preds_semi_test))\n",
    "    roc_score_train_semi = roc_auc_score(lb.fit_transform(new_labeled_y), lb.fit_transform(preds_semi_train))\n",
    "    \n",
    "    roc_score_test_list_semi.append(roc_score_test_semi)\n",
    "    roc_score_train_list_semi.append(roc_score_train_semi)"
   ]
  },
  {
   "cell_type": "code",
   "execution_count": 44,
   "metadata": {},
   "outputs": [
    {
     "name": "stdout",
     "output_type": "stream",
     "text": [
      "Train\n",
      "\n",
      "Average Accuracy for Semi-Supervised Learning: 1.0\n",
      "Average Precision for Semi-Supervised Learning: 1.0\n",
      "Average Recall for Semi-Supervised Learning: 1.0\n",
      "Average F-score for Semi-Supervised Learning: 1.0\n",
      "Average AUC for Semi-Supervised Learning: 1.0\n",
      "\n",
      "Sample Run for Train\n",
      "\n",
      "Confusion Matrix\n",
      "[[353   0]\n",
      " [  0 103]]\n"
     ]
    },
    {
     "data": {
      "image/png": "[encoded data removed]",
      "text/plain": [
       "<Figure size 432x288 with 1 Axes>"
      ]
     },
     "metadata": {
      "needs_background": "light"
     },
     "output_type": "display_data"
    },
    {
     "name": "stdout",
     "output_type": "stream",
     "text": [
      "Area under the curve for ROC Curve above is 1.0\n"
     ]
    }
   ],
   "source": [
    "print(\"Train\")\n",
    "print(\"\")\n",
    "print(\"Average Accuracy for Semi-Supervised Learning: \" + str(np.mean(accuracy_train_list_semi)))\n",
    "print(\"Average Precision for Semi-Supervised Learning: \" + str(np.mean(precision_train_list_semi)))\n",
    "print(\"Average Recall for Semi-Supervised Learning: \" + str(np.mean(recall_train_list_semi)))\n",
    "print(\"Average F-score for Semi-Supervised Learning: \" + str(np.mean(f1_train_list_semi)))\n",
    "print(\"Average AUC for Semi-Supervised Learning: \" + str(np.mean(roc_score_train_list_semi)))\n",
    "print(\"\")\n",
    "\n",
    "print(\"Sample Run for Train\")\n",
    "print(\"\")\n",
    "conf_matrix_train = confusion_matrix(lb.fit_transform(new_labeled_y), lb.fit_transform(preds_semi_train))\n",
    "print(\"Confusion Matrix\")\n",
    "print(conf_matrix_train)\n",
    "fpr_train, tpr_train, thresh_train = roc_curve(lb.fit_transform(new_labeled_y), lb.fit_transform(preds_semi_train))\n",
    "plt.figure() \n",
    "plt.plot(fpr_train, tpr_train)\n",
    "plt.plot([0, 1], [0, 1],'r--')\n",
    "plt.xlabel('False Positive Rate')\n",
    "plt.ylabel('True Positive Rate')\n",
    "plt.show()\n",
    "roc_score_train = roc_auc_score(lb.fit_transform(new_labeled_y), lb.fit_transform(preds_semi_train))\n",
    "print(\"Area under the curve for ROC Curve above is \" + str(roc_score_train))"
   ]
  },
  {
   "cell_type": "code",
   "execution_count": 45,
   "metadata": {},
   "outputs": [
    {
     "name": "stdout",
     "output_type": "stream",
     "text": [
      "Test\n",
      "\n",
      "Accuracy: 0.910914454277\n",
      "Precision: 0.836689766395\n",
      "Recall: 0.97037037037\n",
      "F-score: 0.897542973816\n",
      "AUC: 0.920969498911\n",
      "\n",
      "Sample Run for Test: \n",
      "\n",
      "Confusion Matrix\n",
      "[[44  1]\n",
      " [11 57]]\n"
     ]
    },
    {
     "data": {
      "image/png": "[encoded data removed]",
      "text/plain": [
       "<Figure size 432x288 with 1 Axes>"
      ]
     },
     "metadata": {
      "needs_background": "light"
     },
     "output_type": "display_data"
    },
    {
     "name": "stdout",
     "output_type": "stream",
     "text": [
      "Area under the curve for ROC Curve above is 0.908006535948\n"
     ]
    }
   ],
   "source": [
    "print(\"Test\")\n",
    "print(\"\")\n",
    "print(\"Accuracy: \" + str(np.mean(accuracy_test_list_semi)))\n",
    "print(\"Precision: \" + str(np.mean(precision_test_list_semi)))\n",
    "print(\"Recall: \" + str(np.mean(recall_test_list_semi)))\n",
    "print(\"F-score: \" + str(np.mean(f1_test_list_semi)))\n",
    "print(\"AUC: \" + str(np.mean(roc_score_test_list_semi)))\n",
    "print(\"\")\n",
    "\n",
    "print(\"Sample Run for Test: \")\n",
    "print(\"\")\n",
    "conf_matrix_test = confusion_matrix(lb.fit_transform(y_semi_data_test), lb.fit_transform(preds_semi_test))\n",
    "print(\"Confusion Matrix\")\n",
    "print(conf_matrix_test)\n",
    "fpr_test, tpr_test, thresh_test = roc_curve(lb.fit_transform(y_semi_data_test), lb.fit_transform(preds_semi_test))\n",
    "plt.figure() \n",
    "plt.plot(fpr_test, tpr_test)\n",
    "plt.plot([0, 1], [0, 1],'r--')\n",
    "plt.xlabel('False Positive Rate')\n",
    "plt.ylabel('True Positive Rate')\n",
    "plt.show()\n",
    "roc_score_test = roc_auc_score(lb.fit_transform(y_semi_data_test), lb.fit_transform(preds_semi_test))\n",
    "print(\"Area under the curve for ROC Curve above is \" + str(roc_score_test))"
   ]
  },
  {
   "cell_type": "markdown",
   "metadata": {},
   "source": [
    "- iii. Unsupervised Learning: Run k-means algorithm on the whole training set. Ignore the labels of the data, and assume k = 2.\n",
    "\n",
    "    - A. Run the k-means algorithm multiple times. Make sure that you initialize the algoritm randomly. How do you make sure that the algorithm was not trapped in a local minimum?"
   ]
  },
  {
   "cell_type": "code",
   "execution_count": 46,
   "metadata": {
    "collapsed": true
   },
   "outputs": [],
   "source": [
    "from sklearn.cluster import KMeans \n",
    "\n",
    "X_data = df.drop([0, 1], axis = 1)\n",
    "y_data = df.iloc[:,1]"
   ]
  },
  {
   "cell_type": "code",
   "execution_count": 47,
   "metadata": {},
   "outputs": [
    {
     "data": {
      "text/plain": [
       "array([0, 0, 0, 1, 0, 1, 0, 1, 1, 1, 1, 0, 0, 1, 1, 1, 1, 0, 0, 1, 1, 1, 1,\n",
       "       0, 0, 0, 1, 0, 0, 0, 0, 1, 0, 0, 0, 0, 1, 1, 1, 1, 1, 1, 0, 1, 1, 0,\n",
       "       1, 1, 1, 1, 1, 1, 1, 0, 1, 1, 0, 1, 1, 1, 1, 1, 1, 1, 1, 1, 1, 1, 1,\n",
       "       1, 0, 1, 0, 1, 1, 0, 1, 0, 0, 1, 1, 1, 0, 0, 1, 0, 1, 0, 1, 1, 1, 1,\n",
       "       1, 1, 1, 0, 1, 1, 1, 1, 1, 1, 1, 1, 1, 1, 1, 1, 0, 1, 1, 1, 1, 1, 1,\n",
       "       1, 1, 1, 0, 0, 1, 0, 0, 1, 1, 1, 1, 0, 1, 0, 1, 1, 1, 1, 0, 1, 1, 1,\n",
       "       1, 1, 1, 0, 1, 1, 1, 1, 1, 1, 1, 1, 1, 1, 1, 1, 1, 1, 0, 1, 1, 1, 1,\n",
       "       0, 0, 1, 0, 1, 1, 0, 0, 1, 1, 1, 1, 1, 1, 1, 1, 1, 1, 1, 0, 0, 0, 1,\n",
       "       1, 1, 0, 1, 1, 1, 1, 1, 1, 1, 1, 1, 1, 0, 0, 1, 1, 0, 0, 1, 1, 1, 1,\n",
       "       0, 1, 1, 0, 1, 0, 1, 1, 1, 1, 1, 0, 0, 1, 1, 1, 1, 1, 1, 1, 1, 1, 1,\n",
       "       0, 1, 1, 0, 1, 1, 0, 0, 1, 0, 1, 1, 1, 1, 0, 1, 1, 1, 1, 1, 0, 1, 0,\n",
       "       0, 0, 1, 0, 1, 0, 1, 0, 0, 0, 1, 0, 0, 1, 1, 1, 1, 1, 1, 0, 1, 0, 1,\n",
       "       1, 0, 1, 1, 0, 1, 0, 1, 1, 1, 1, 1, 1, 1, 1, 1, 1, 1, 1, 1, 1, 1, 1,\n",
       "       1, 0, 1, 0, 1, 1, 1, 1, 1, 1, 1, 1, 1, 1, 1, 1, 1, 1, 0, 1, 1, 1, 0,\n",
       "       1, 0, 1, 1, 1, 1, 1, 1, 1, 1, 1, 1, 1, 0, 1, 0, 1, 0, 1, 1, 1, 0, 1,\n",
       "       1, 1, 1, 1, 1, 1, 1, 0, 1, 1, 1, 1, 1, 1, 1, 1, 1, 1, 1, 1, 0, 0, 1,\n",
       "       0, 0, 1, 1, 0, 0, 1, 1, 1, 1, 1, 1, 1, 1, 1, 1, 1, 1, 1, 1, 1, 0, 1,\n",
       "       1, 0, 0, 1, 1, 1, 1, 1, 1, 0, 1, 1, 1, 1, 1, 1, 1, 0, 1, 1, 1, 1, 1,\n",
       "       1, 1, 1, 0, 1, 1, 1, 1, 1, 1, 1, 1, 1, 1, 1, 1, 1, 1, 0, 0, 1, 1, 1,\n",
       "       1, 1, 1, 1, 0, 1, 1, 0, 1, 0, 1, 1, 0, 1, 0, 1, 1, 1, 1, 1, 1, 1, 1,\n",
       "       0, 0, 1, 1, 1, 1, 1, 1, 0, 1, 1, 1, 1, 1, 1, 1, 1, 1, 1, 1, 1, 1, 1,\n",
       "       1, 1, 1, 1, 0, 1, 1, 1, 0, 0, 1, 1, 1, 1, 1, 0, 0, 1, 1, 1, 0, 1, 1,\n",
       "       1, 1, 1, 1, 1, 1, 1, 1, 1, 1, 0, 0, 1, 1, 1, 0, 1, 1, 1, 1, 1, 1, 1,\n",
       "       1, 1, 1, 1, 0, 1, 0, 1, 1, 1, 1, 1, 1, 1, 1, 1, 1, 1, 1, 1, 1, 1, 1,\n",
       "       1, 1, 1, 1, 1, 1, 1, 1, 1, 1, 1, 0, 0, 0, 1, 0, 1], dtype=int32)"
      ]
     },
     "execution_count": 47,
     "metadata": {},
     "output_type": "execute_result"
    }
   ],
   "source": [
    "kmeans_k2 = KMeans(n_clusters = 2, init = 'random', n_init = 100).fit(X_data)\n",
    "clusters = kmeans_k2.labels_ \n",
    "cluster0 = np.argwhere(clusters == 0)\n",
    "cluster1 = np.argwhere(clusters == 1)\n",
    "kmeans_k2.labels_ "
   ]
  },
  {
   "cell_type": "markdown",
   "metadata": {},
   "source": [
    "- With K-means algorithm, it is not entirely possible to avoid local minima since it requires you to iterate over all possible clusterings: if you have the objective function the same is true. You could iterate over all solutions and maximize the objective function, but the number of iterations is exponential in size of the data set https://stats.stackexchange.com/questions/48757/why-doesnt-k-means-give-the-global-minimum). However, there are some \"hacks\" that can be applied to minimize the chances of getting one. For example, by setting the sklearn's KMeans parameter, n_init = 100, it runs K-means multiple times and then chooses the run that gives the lowest error. So, if you run this k^n times, it will choose the best solution and will guarentee you'll find a global minima, but it is too time consuming to be used for pratical puposes (https://stackoverflow.com/questions/43789602/avoiding-local-minima-when-using-kmeans). "
   ]
  },
  {
   "cell_type": "markdown",
   "metadata": {},
   "source": [
    "- \n",
    "    - B. Compute the centers of the two clusters and find the closest 30 data points to each center. Read the true labels of those 30 data points and take a majority poll within them. The majority poll becomes the label predicted by k-means for the members of each cluster. Then compare the labels provided by k-means with the true labels of the training data and report the average accuracy, precision, recall, F-score, and AUC over M runs, and ROC and the confusion matrix for one of the runs."
   ]
  },
  {
   "cell_type": "code",
   "execution_count": 49,
   "metadata": {
    "collapsed": true
   },
   "outputs": [],
   "source": [
    "from sklearn.cluster import KMeans \n",
    "\n",
    "accuracy_train_list_uns = [] \n",
    "precision_train_list_uns = [] \n",
    "recall_train_list_uns = [] \n",
    "f1_train_list_uns = [] \n",
    "roc_score_train_list_uns = [] \n",
    "\n",
    "for uns_time in range(30):\n",
    "    X_data = df.drop([0, 1], axis = 1)\n",
    "    y_data = df.iloc[:,1]\n",
    "    \n",
    "    X_test_uns = X_data.iloc[:114]\n",
    "    y_test_uns = y_data.iloc[:114]\n",
    "    X_train_uns = X_data.iloc[114:]\n",
    "    y_train_uns = y_data.iloc[114:]\n",
    "    \n",
    "    kmeans_k2 = KMeans(n_clusters = 2, init = 'random', n_init = 100).fit(X_data)\n",
    "    clusters = kmeans_k2.labels_ \n",
    "    cluster0 = np.argwhere(clusters == 0)\n",
    "    cluster1 = np.argwhere(clusters == 1)\n",
    "    #kmeans_k2.labels_ \n",
    "    \n",
    "    # B. \n",
    "    d1 = kmeans_k2.transform(X_data)[:, 1]\n",
    "    d0 = kmeans_k2.transform(X_data)[:, 0]\n",
    "    ind0 = np.argsort(d0)[::-1][:30]\n",
    "    ind1 = np.argsort(d1)[::-1][:30]\n",
    "    \n",
    "    cluster0_y = y_data.iloc[ind0.ravel()]\n",
    "    cluster0_y_class = np.argmax(cluster0_y.value_counts())\n",
    "    cluster1_y = y_data.iloc[ind1.ravel()]\n",
    "    cluster1_y_class = np.argmax(cluster1_y.value_counts())\n",
    "    \n",
    "    kmeans_classifier = [] \n",
    "    for indices in range(455):\n",
    "        if indices in cluster0: \n",
    "            kmeans_classifier.append(cluster0_y_class)\n",
    "        else: \n",
    "            kmeans_classifier.append(cluster1_y_class)\n",
    "            \n",
    "    preds_uns_train = pd.Series(kmeans_classifier)\n",
    "    true_y_uns_train = y_train_uns\n",
    "    \n",
    "    # accuracy \n",
    "    accuracy_train_uns = accuracy_score(true_y_uns_train, preds_uns_train)\n",
    "    accuracy_train_list_uns.append(accuracy_train_uns)\n",
    "    \n",
    "    #precision\n",
    "    precision_train_uns = precision_score(true_y_uns_train, preds_uns_train, average = \"binary\", pos_label='B')\n",
    "    precision_train_list_uns.append(precision_train_uns)\n",
    "    \n",
    "    #recall \n",
    "    recall_train_uns = recall_score(true_y_uns_train, preds_uns_train, average = \"binary\", pos_label='B')\n",
    "    recall_train_list_uns.append(recall_train_uns)\n",
    "    \n",
    "    #f-score\n",
    "    f1_train_uns = f1_score(true_y_uns_train, preds_uns_train, average = \"binary\", pos_label='B')\n",
    "    f1_train_list_uns.append(f1_train_uns)\n",
    "    \n",
    "    #auc \n",
    "    roc_score_train_uns = roc_auc_score(lb.fit_transform(true_y_uns_train), lb.fit_transform(preds_uns_train))\n",
    "    roc_score_train_list_uns.append(roc_score_train_uns)"
   ]
  },
  {
   "cell_type": "code",
   "execution_count": 51,
   "metadata": {},
   "outputs": [
    {
     "name": "stdout",
     "output_type": "stream",
     "text": [
      "Train\n",
      "\n",
      "Average Accuracy for Unsupervised Learning: 0.397802197802\n",
      "Average Precision for Unsupervised Learning: 0.663716814159\n",
      "Average Recall for Unsupervised Learning: 0.24115755627\n",
      "Average F-score for Unsupervised Learning: 0.353773584906\n",
      "Average AUC for Unsupervised Learning: 0.488634333691\n",
      "\n",
      "Sample Run for Train\n",
      "\n",
      "Confusion Matrix\n",
      "[[ 75 236]\n",
      " [ 38 106]]\n"
     ]
    },
    {
     "data": {
      "image/png": "[encoded data removed]",
      "text/plain": [
       "<Figure size 432x288 with 1 Axes>"
      ]
     },
     "metadata": {
      "needs_background": "light"
     },
     "output_type": "display_data"
    },
    {
     "name": "stdout",
     "output_type": "stream",
     "text": [
      "Area under the curve for ROC Curve above is 0.488634333691\n"
     ]
    }
   ],
   "source": [
    "print(\"Train\")\n",
    "print(\"\")\n",
    "print(\"Average Accuracy for Unsupervised Learning: \" + str(np.mean(accuracy_train_list_uns)))\n",
    "print(\"Average Precision for Unsupervised Learning: \" + str(np.mean(precision_train_list_uns)))\n",
    "print(\"Average Recall for Unsupervised Learning: \" + str(np.mean(recall_train_list_uns)))\n",
    "print(\"Average F-score for Unsupervised Learning: \" + str(np.mean(f1_train_list_uns)))\n",
    "print(\"Average AUC for Unsupervised Learning: \" + str(np.mean(roc_score_train_list_uns)))\n",
    "print(\"\")\n",
    "\n",
    "print(\"Sample Run for Train\")\n",
    "print(\"\")\n",
    "conf_matrix_train = confusion_matrix(lb.fit_transform(true_y_uns_train), lb.fit_transform(preds_uns_train))\n",
    "print(\"Confusion Matrix\")\n",
    "print(conf_matrix_train)\n",
    "fpr_train, tpr_train, thresh_train = roc_curve(lb.fit_transform(true_y_uns_train), lb.fit_transform(preds_uns_train))\n",
    "plt.figure() \n",
    "plt.plot(fpr_train, tpr_train)\n",
    "plt.plot([0, 1], [0, 1],'r--')\n",
    "plt.xlabel('False Positive Rate')\n",
    "plt.ylabel('True Positive Rate')\n",
    "plt.show()\n",
    "roc_score_train = roc_auc_score(lb.fit_transform(true_y_uns_train), lb.fit_transform(preds_uns_train))\n",
    "print(\"Area under the curve for ROC Curve above is \" + str(roc_score_train))"
   ]
  },
  {
   "cell_type": "markdown",
   "metadata": {},
   "source": [
    "- \n",
    "    - C. Classify test data based on their proximity to the centers of the clusters. Report the average accuracy, precision, recall, F-score, and AUC over M runs, and ROC and the confusion matrix for one of the runs for the test data."
   ]
  },
  {
   "cell_type": "code",
   "execution_count": 58,
   "metadata": {
    "collapsed": true
   },
   "outputs": [],
   "source": [
    "accuracy_test_list_uns = [] \n",
    "precision_test_list_uns = [] \n",
    "recall_test_list_uns = [] \n",
    "f1_test_list_uns = [] \n",
    "roc_score_test_list_uns = [] \n",
    "\n",
    "for test_uns in range(30):\n",
    "    X_data = df.drop([0, 1], axis = 1)\n",
    "    y_data = df.iloc[:,1]\n",
    "    \n",
    "    X_test_uns = X_data.iloc[:114]\n",
    "    y_test_uns = y_data.iloc[:114]\n",
    "    \n",
    "    kmeans_k2 = KMeans(n_clusters = 2, init = 'random', n_init = 100).fit(X_test_uns)\n",
    "    clusters = kmeans_k2.labels_ \n",
    "    cluster0 = np.argwhere(clusters == 0)\n",
    "    cluster1 = np.argwhere(clusters == 1)\n",
    "    #kmeans_k2.labels_ \n",
    "    \n",
    "    d1 = kmeans_k2.transform(X_test_uns)[:, 1]\n",
    "    d0 = kmeans_k2.transform(X_test_uns)[:, 0]\n",
    "    ind0 = np.argsort(d0)[::-1][:30]\n",
    "    ind1 = np.argsort(d1)[::-1][:30]\n",
    "    \n",
    "    cluster0_y = y_test_uns.iloc[ind0.ravel()]\n",
    "    cluster0_y_class = np.argmax(cluster0_y.value_counts())\n",
    "    cluster1_y = y_test_uns.iloc[ind1.ravel()]\n",
    "    cluster1_y_class = np.argmax(cluster1_y.value_counts())\n",
    "    \n",
    "    kmeans_classifier_test = [] \n",
    "    for indices_test in range(455, 569):\n",
    "        if indices_test in cluster0: \n",
    "            kmeans_classifier_test.append(cluster0_y_class)\n",
    "        else: \n",
    "            kmeans_classifier_test.append(cluster1_y_class)\n",
    "            \n",
    "    preds_uns_test = pd.Series(kmeans_classifier_test)\n",
    "    true_y_uns_test = y_test_uns\n",
    "    \n",
    "    # accuracy \n",
    "    accuracy_test_uns = accuracy_score(true_y_uns_test, preds_uns_test)\n",
    "    accuracy_test_list_uns.append(accuracy_test_uns)\n",
    "    \n",
    "    #precision\n",
    "    precision_test_uns = precision_score(true_y_uns_test, preds_uns_test, average = \"binary\", pos_label='B')\n",
    "    precision_test_list_uns.append(precision_test_uns)\n",
    "    \n",
    "    #recall \n",
    "    recall_test_uns = recall_score(true_y_uns_test, preds_uns_test, average = \"binary\", pos_label='B')\n",
    "    recall_test_list_uns.append(recall_test_uns)\n",
    "    \n",
    "    #f-score\n",
    "    f1_test_uns = f1_score(true_y_uns_test, preds_uns_test, average = \"binary\", pos_label='B')\n",
    "    f1_test_list_uns.append(f1_test_uns)\n",
    "    \n",
    "    #auc \n",
    "    roc_score_test_uns = roc_auc_score(lb.fit_transform(true_y_uns_test), lb.fit_transform(preds_uns_test))\n",
    "    roc_score_test_list_uns.append(roc_score_test_uns)"
   ]
  },
  {
   "cell_type": "code",
   "execution_count": 59,
   "metadata": {},
   "outputs": [
    {
     "name": "stdout",
     "output_type": "stream",
     "text": [
      "Test\n",
      "\n",
      "Average Accuracy for Unsupervised Learning: 0.5\n",
      "Average Precision for Unsupervised Learning: 0.201754385965\n",
      "Average Recall for Unsupervised Learning: 0.5\n",
      "Average F-score for Unsupervised Learning: 0.2875\n",
      "Average AUC for Unsupervised Learning: 0.5\n",
      "\n",
      "Sample Run for Test\n",
      "\n",
      "Confusion Matrix\n",
      "[[46  0]\n",
      " [68  0]]\n"
     ]
    },
    {
     "data": {
      "image/png": "[encoded data removed]",
      "text/plain": [
       "<Figure size 432x288 with 1 Axes>"
      ]
     },
     "metadata": {
      "needs_background": "light"
     },
     "output_type": "display_data"
    },
    {
     "name": "stdout",
     "output_type": "stream",
     "text": [
      "Area under the curve for ROC Curve above is 0.5\n"
     ]
    }
   ],
   "source": [
    "print(\"Test\")\n",
    "print(\"\")\n",
    "print(\"Average Accuracy for Unsupervised Learning: \" + str(np.mean(accuracy_test_list_uns)))\n",
    "print(\"Average Precision for Unsupervised Learning: \" + str(np.mean(precision_test_list_uns)))\n",
    "print(\"Average Recall for Unsupervised Learning: \" + str(np.mean(recall_test_list_uns)))\n",
    "print(\"Average F-score for Unsupervised Learning: \" + str(np.mean(f1_test_list_uns)))\n",
    "print(\"Average AUC for Unsupervised Learning: \" + str(np.mean(roc_score_test_list_uns)))\n",
    "print(\"\")\n",
    "\n",
    "print(\"Sample Run for Test\")\n",
    "print(\"\")\n",
    "conf_matrix_train = confusion_matrix(lb.fit_transform(true_y_uns_test), lb.fit_transform(preds_uns_test))\n",
    "print(\"Confusion Matrix\")\n",
    "print(conf_matrix_train)\n",
    "fpr_train, tpr_train, thresh_train = roc_curve(lb.fit_transform(true_y_uns_test), lb.fit_transform(preds_uns_test))\n",
    "plt.figure() \n",
    "plt.plot(fpr_train, tpr_train)\n",
    "plt.plot([0, 1], [0, 1],'r--')\n",
    "plt.xlabel('False Positive Rate')\n",
    "plt.ylabel('True Positive Rate')\n",
    "plt.show()\n",
    "roc_score_train = roc_auc_score(lb.fit_transform(true_y_uns_test), lb.fit_transform(preds_uns_test))\n",
    "print(\"Area under the curve for ROC Curve above is \" + str(roc_score_train))"
   ]
  },
  {
   "cell_type": "markdown",
   "metadata": {},
   "source": [
    "- iv. Spectral Clustering: Repeat 1(b)iii using spectral clustering, which is clustering based on kernels. Research what spectral clustering is. Use RBF kernel."
   ]
  },
  {
   "cell_type": "markdown",
   "metadata": {},
   "source": [
    "- Spectral Clustering: "
   ]
  },
  {
   "cell_type": "markdown",
   "metadata": {},
   "source": [
    "- \n",
    "    - A. Run the k-means algorithm multiple times. Make sure that you initialize the algoritm randomly. How do you make sure that the algorithm was not trapped in a local minimum?"
   ]
  },
  {
   "cell_type": "code",
   "execution_count": 166,
   "metadata": {},
   "outputs": [
    {
     "data": {
      "text/plain": [
       "array([0, 0, 0, 1, 1, 0, 0, 1, 0, 0, 0, 0, 1, 1, 0, 1, 0, 1, 1, 0, 1, 0, 0,\n",
       "       0, 1, 0, 0, 1, 0, 0, 0, 0, 0, 0, 0, 0, 0, 0, 0, 0, 0, 0, 1, 0, 0, 0,\n",
       "       0, 1, 1, 0, 1, 0, 0, 1, 1, 0, 0, 1, 1, 0, 0, 0, 0, 0, 0, 0, 1, 1, 1,\n",
       "       0, 1, 0, 1, 0, 0, 0, 0, 0, 0, 1, 0, 0, 1, 0, 1, 1, 1, 1, 0, 1, 1, 1,\n",
       "       0, 1, 0, 0, 1, 0, 0, 0, 0, 0, 0, 0, 1, 1, 0, 0, 0, 1, 0, 1, 0, 0, 0,\n",
       "       1, 1, 0, 0, 1, 0, 0, 1, 1, 0, 1, 0, 0, 0, 0, 0, 0, 0, 0, 0, 0, 1, 0,\n",
       "       1, 1, 1, 1, 1, 0, 1, 1, 1, 1, 1, 0, 1, 1, 0, 0, 0, 0, 0, 0, 1, 0, 1,\n",
       "       0, 0, 0, 0, 0, 1, 0, 1, 0, 0, 0, 0, 0, 0, 0, 0, 0, 0, 0, 0, 0, 0, 0,\n",
       "       0, 0, 1, 0, 1, 0, 0, 0, 0, 0, 0, 0, 0, 0, 0, 0, 0, 0, 0, 1, 0, 0, 0,\n",
       "       1, 0, 1, 0, 0, 0, 0, 1, 0, 1, 0, 0, 0, 0, 1, 0, 1, 0, 1, 1, 0, 0, 1,\n",
       "       0, 0, 0, 0, 0, 0, 0, 0, 1, 1, 0, 0, 0, 0, 0, 1, 0, 0, 0, 0, 0, 1, 1,\n",
       "       0, 1, 1, 1, 0, 0, 1, 0, 0, 0, 0, 0, 0, 0, 0, 0, 0, 0, 0, 0, 0, 0, 0,\n",
       "       0, 0, 1, 1, 0, 0, 0, 0, 0, 0, 1, 0, 0, 0, 0, 0, 0, 0, 1, 0, 0, 0, 0,\n",
       "       0, 0, 0, 0, 1, 0, 0, 0, 0, 0, 0, 0, 0, 0, 0, 0, 0, 0, 0, 0, 1, 0, 1,\n",
       "       0, 0, 0, 0, 0, 1, 0, 0, 1, 0, 1, 0, 0, 1, 0, 0, 0, 0, 0, 0, 0, 0, 0,\n",
       "       0, 1, 1, 0, 0, 0, 0, 0, 0, 1, 0, 0, 0, 0, 0, 0, 0, 1, 0, 0, 0, 0, 1,\n",
       "       0, 0, 0, 0, 0, 1, 0, 0, 0, 0, 1, 0, 0, 0, 0, 0, 1, 1, 0, 0, 0, 1, 0,\n",
       "       0, 0, 0, 0, 0, 0, 0, 1, 0, 1, 0, 1, 1, 1, 0, 0, 1, 0, 0, 0, 0, 0, 0,\n",
       "       0, 0, 0, 0, 1, 0, 0, 1, 0, 0, 0, 0, 0, 0, 0, 0, 0, 0, 0, 0, 0, 1, 0,\n",
       "       0, 0, 0, 0, 0, 0, 0, 0, 0, 0, 0, 0, 1, 1, 1, 1, 1, 0], dtype=int32)"
      ]
     },
     "execution_count": 166,
     "metadata": {},
     "output_type": "execute_result"
    }
   ],
   "source": [
    "X_data = df.drop([0, 1], axis = 1)\n",
    "X_data = preprocessing.normalize(X_data)\n",
    "y_data = df.iloc[:,1]\n",
    "    \n",
    "X_test_uns = pd.DataFrame(X_data).iloc[:114]\n",
    "y_test_uns = y_data.iloc[:114]\n",
    "X_train_uns = pd.DataFrame(X_data).iloc[114:]\n",
    "y_train_uns = y_data.iloc[114:]\n",
    "    \n",
    "spec_clustering_train = SpectralClustering(n_clusters=2, n_init = 100).fit(X_train_uns)\n",
    "spec_clustering_train.labels_ "
   ]
  },
  {
   "cell_type": "markdown",
   "metadata": {},
   "source": [
    "- \n",
    "    - B. Compute the centers of the two clusters and find the closest 30 data points to each center. Read the true labels of those 30 data points and take a majority poll within them. The majority poll becomes the label predicted by k-means for the members of each cluster. Then compare the labels provided by k-means with the true labels of the training data and report the average accuracy, precision, recall, F-score, and AUC over M runs, and ROC and the confusion matrix for one of the runs."
   ]
  },
  {
   "cell_type": "code",
   "execution_count": 164,
   "metadata": {},
   "outputs": [],
   "source": [
    "from sklearn.cluster import SpectralClustering \n",
    "\n",
    "accuracy_train_list_uns = [] \n",
    "precision_train_list_uns = [] \n",
    "recall_train_list_uns = [] \n",
    "f1_train_list_uns = [] \n",
    "roc_score_train_list_uns = [] \n",
    "df = wdbc_data \n",
    "\n",
    "for uns_time1 in range(30):\n",
    "    X_data = df.drop([0, 1], axis = 1)\n",
    "    X_data = preprocessing.normalize(X_data)\n",
    "    y_data = df.iloc[:,1]\n",
    "    \n",
    "    X_test_uns = pd.DataFrame(X_data).iloc[:114]\n",
    "    y_test_uns = y_data.iloc[:114]\n",
    "    X_train_uns = pd.DataFrame(X_data).iloc[114:]\n",
    "    y_train_uns = y_data.iloc[114:]\n",
    "    \n",
    "    \n",
    "    spec_clustering_train = SpectralClustering(n_clusters=2, n_init = 100).fit(X_train_uns)\n",
    "    \n",
    "    clusters = spec_clustering_train.labels_ \n",
    "    cluster0 = np.argwhere(clusters == 0)\n",
    "    cluster1 = np.argwhere(clusters == 1)\n",
    "    \n",
    "    ind0 = cluster0\n",
    "    ind1 = cluster1\n",
    "    \n",
    "    cluster0_y = y_train_uns.iloc[ind0.ravel()]\n",
    "    cluster0_y_class = np.argmax(cluster0_y.value_counts())\n",
    "    cluster1_y = y_train_uns.iloc[ind1.ravel()]\n",
    "    cluster1_y_class = np.argmax(cluster1_y.value_counts())\n",
    "    \n",
    "    \n",
    "    spec_classifier = [] \n",
    "    for indices in range(455):\n",
    "        if indices in cluster0: \n",
    "            spec_classifier.append(cluster0_y_class)\n",
    "        else: \n",
    "            spec_classifier.append(cluster1_y_class)\n",
    "    \n",
    "    preds_uns_train = pd.Series(spec_classifier)\n",
    "    true_y_uns_train = y_train_uns\n",
    "    \n",
    "    \n",
    "    # accuracy \n",
    "    accuracy_train_uns = accuracy_score(true_y_uns_train, preds_uns_train)\n",
    "    accuracy_train_list_uns.append(accuracy_train_uns)\n",
    "    \n",
    "    #precision\n",
    "    precision_train_uns = precision_score(true_y_uns_train, preds_uns_train, average = \"binary\", pos_label='B')\n",
    "    precision_train_list_uns.append(precision_train_uns)\n",
    "    \n",
    "    #recall \n",
    "    recall_train_uns = recall_score(true_y_uns_train, preds_uns_train, average = \"binary\", pos_label='B')\n",
    "    recall_train_list_uns.append(recall_train_uns)\n",
    "    \n",
    "    #f-score\n",
    "    f1_train_uns = f1_score(true_y_uns_train, preds_uns_train, average = \"binary\", pos_label='B')\n",
    "    f1_train_list_uns.append(f1_train_uns)\n",
    "    \n",
    "    #auc \n",
    "    roc_score_train_uns = roc_auc_score(lb.fit_transform(true_y_uns_train), lb.fit_transform(preds_uns_train))\n",
    "    roc_score_train_list_uns.append(roc_score_train_uns)"
   ]
  },
  {
   "cell_type": "code",
   "execution_count": 162,
   "metadata": {},
   "outputs": [
    {
     "name": "stdout",
     "output_type": "stream",
     "text": [
      "Train\n",
      "\n",
      "Average Accuracy for Spectral Clustering: 0.898901098901\n",
      "Average Precision for Spectral Clustering: 0.893175074184\n",
      "Average Recall for Spectral Clustering: 0.967845659164\n",
      "Average F-score for Spectral Clustering: 0.929012345679\n",
      "Average AUC for Spectral Clustering: 0.858922829582\n",
      "\n",
      "Sample Run for Train\n",
      "\n",
      "Confusion Matrix\n",
      "[[301  10]\n",
      " [ 36 108]]\n"
     ]
    },
    {
     "data": {
      "image/png": "[encoded data removed]",
      "text/plain": [
       "<Figure size 432x288 with 1 Axes>"
      ]
     },
     "metadata": {
      "needs_background": "light"
     },
     "output_type": "display_data"
    },
    {
     "name": "stdout",
     "output_type": "stream",
     "text": [
      "Area under the curve for ROC Curve above is 0.858922829582\n"
     ]
    }
   ],
   "source": [
    "print(\"Train\")\n",
    "print(\"\")\n",
    "print(\"Average Accuracy for Spectral Clustering: \" + str(np.mean(accuracy_train_list_uns)))\n",
    "print(\"Average Precision for Spectral Clustering: \" + str(np.mean(precision_train_list_uns)))\n",
    "print(\"Average Recall for Spectral Clustering: \" + str(np.mean(recall_train_list_uns)))\n",
    "print(\"Average F-score for Spectral Clustering: \" + str(np.mean(f1_train_list_uns)))\n",
    "print(\"Average AUC for Spectral Clustering: \" + str(np.mean(roc_score_train_list_uns)))\n",
    "print(\"\")\n",
    "\n",
    "print(\"Sample Run for Train\")\n",
    "print(\"\")\n",
    "conf_matrix_train = confusion_matrix(lb.fit_transform(true_y_uns_train), lb.fit_transform(preds_uns_train))\n",
    "print(\"Confusion Matrix\")\n",
    "print(conf_matrix_train)\n",
    "fpr_train, tpr_train, thresh_train = roc_curve(lb.fit_transform(true_y_uns_train), lb.fit_transform(preds_uns_train))\n",
    "plt.figure() \n",
    "plt.plot(fpr_train, tpr_train)\n",
    "plt.plot([0, 1], [0, 1],'r--')\n",
    "plt.xlabel('False Positive Rate')\n",
    "plt.ylabel('True Positive Rate')\n",
    "plt.show()\n",
    "roc_score_train = roc_auc_score(lb.fit_transform(true_y_uns_train), lb.fit_transform(preds_uns_train))\n",
    "print(\"Area under the curve for ROC Curve above is \" + str(roc_score_train))"
   ]
  },
  {
   "cell_type": "markdown",
   "metadata": {},
   "source": [
    "- \n",
    "    - C. Classify test data based on their proximity to the centers of the clusters. Report the average accuracy, precision, recall, F-score, and AUC over M runs, and ROC and the confusion matrix for one of the runs for the test data."
   ]
  },
  {
   "cell_type": "code",
   "execution_count": 173,
   "metadata": {},
   "outputs": [],
   "source": [
    "accuracy_test_list_uns = [] \n",
    "precision_test_list_uns = [] \n",
    "recall_test_list_uns = [] \n",
    "f1_test_list_uns = [] \n",
    "roc_score_test_list_uns = [] \n",
    "df = wdbc_data \n",
    "\n",
    "for uns_time1 in range(30):\n",
    "    X_data = df.drop([0, 1], axis = 1)\n",
    "    X_data = preprocessing.normalize(X_data)\n",
    "    y_data = df.iloc[:,1]\n",
    "    \n",
    "    X_test_uns = pd.DataFrame(X_data).iloc[:114]\n",
    "    y_test_uns = y_data.iloc[:114]\n",
    "    X_train_uns = pd.DataFrame(X_data).iloc[114:]\n",
    "    y_train_uns = y_data.iloc[114:]\n",
    "    \n",
    "    \n",
    "    spec_clustering_train = SpectralClustering(n_clusters=2, n_init = 100).fit(X_test_uns)\n",
    "    \n",
    "    clusters = spec_clustering_train.labels_ \n",
    "    cluster0 = np.argwhere(clusters == 0)\n",
    "    cluster1 = np.argwhere(clusters == 1)\n",
    "    \n",
    "    ind0 = cluster0\n",
    "    ind1 = cluster1\n",
    "    \n",
    "    cluster0_y = y_test_uns.iloc[ind0.ravel()]\n",
    "    cluster0_y_class = np.argmax(cluster0_y.value_counts())\n",
    "    cluster1_y = y_test_uns.iloc[ind1.ravel()]\n",
    "    cluster1_y_class = np.argmax(cluster1_y.value_counts())\n",
    "    \n",
    "    \n",
    "    spec_classifier = [] \n",
    "    for indices in range(455,569):\n",
    "        if indices in cluster0: \n",
    "            spec_classifier.append(cluster0_y_class)\n",
    "        else: \n",
    "            spec_classifier.append(cluster1_y_class)\n",
    "    \n",
    "    preds_uns_train = pd.Series(spec_classifier)\n",
    "    true_y_uns_train = y_test_uns\n",
    "    \n",
    "    \n",
    "    # accuracy \n",
    "    accuracy_test_uns = accuracy_score(true_y_uns_train, preds_uns_train)\n",
    "    accuracy_test_list_uns.append(accuracy_test_uns)\n",
    "    \n",
    "    #precision\n",
    "    precision_test_uns = precision_score(true_y_uns_train, preds_uns_train, average = \"binary\", pos_label='B')\n",
    "    precision_test_list_uns.append(precision_test_uns)\n",
    "    \n",
    "    #recall \n",
    "    recall_test_uns = recall_score(true_y_uns_train, preds_uns_train, average = \"binary\", pos_label='B')\n",
    "    recall_test_list_uns.append(recall_test_uns)\n",
    "    \n",
    "    #f-score\n",
    "    f1_test_uns = f1_score(true_y_uns_train, preds_uns_train, average = \"binary\", pos_label='B')\n",
    "    f1_test_list_uns.append(f1_test_uns)\n",
    "    \n",
    "    #auc \n",
    "    roc_score_test_uns = roc_auc_score(lb.fit_transform(true_y_uns_train), lb.fit_transform(preds_uns_train))\n",
    "    roc_score_test_list_uns.append(roc_score_test_uns)"
   ]
  },
  {
   "cell_type": "code",
   "execution_count": 174,
   "metadata": {},
   "outputs": [
    {
     "name": "stdout",
     "output_type": "stream",
     "text": [
      "Test\n",
      "\n",
      "Average Accuracy for Spectral Clustering: 0.5\n",
      "Average Precision for Spectral Clustering: 0.201754385965\n",
      "Average Recall for Spectral Clustering: 0.5\n",
      "Average F-score for Spectral Clustering: 0.2875\n",
      "Average AUC for Spectral Clustering: 0.5\n",
      "\n",
      "Sample Run for Test\n",
      "\n",
      "Confusion Matrix\n",
      "[[46  0]\n",
      " [68  0]]\n"
     ]
    },
    {
     "data": {
      "image/png": "[encoded data removed]",
      "text/plain": [
       "<Figure size 432x288 with 1 Axes>"
      ]
     },
     "metadata": {
      "needs_background": "light"
     },
     "output_type": "display_data"
    },
    {
     "name": "stdout",
     "output_type": "stream",
     "text": [
      "Area under the curve for ROC Curve above is 0.5\n"
     ]
    }
   ],
   "source": [
    "print(\"Test\")\n",
    "print(\"\")\n",
    "print(\"Average Accuracy for Spectral Clustering: \" + str(np.mean(accuracy_test_list_uns)))\n",
    "print(\"Average Precision for Spectral Clustering: \" + str(np.mean(precision_test_list_uns)))\n",
    "print(\"Average Recall for Spectral Clustering: \" + str(np.mean(recall_test_list_uns)))\n",
    "print(\"Average F-score for Spectral Clustering: \" + str(np.mean(f1_test_list_uns)))\n",
    "print(\"Average AUC for Spectral Clustering: \" + str(np.mean(roc_score_test_list_uns)))\n",
    "print(\"\")\n",
    "\n",
    "print(\"Sample Run for Test\")\n",
    "print(\"\")\n",
    "conf_matrix_train = confusion_matrix(lb.fit_transform(true_y_uns_train), lb.fit_transform(preds_uns_train))\n",
    "print(\"Confusion Matrix\")\n",
    "print(conf_matrix_train)\n",
    "fpr_train, tpr_train, thresh_train = roc_curve(lb.fit_transform(true_y_uns_train), lb.fit_transform(preds_uns_train))\n",
    "plt.figure() \n",
    "plt.plot(fpr_train, tpr_train)\n",
    "plt.plot([0, 1], [0, 1],'r--')\n",
    "plt.xlabel('False Positive Rate')\n",
    "plt.ylabel('True Positive Rate')\n",
    "plt.show()\n",
    "roc_score_train = roc_auc_score(lb.fit_transform(true_y_uns_train), lb.fit_transform(preds_uns_train))\n",
    "print(\"Area under the curve for ROC Curve above is \" + str(roc_score_train))"
   ]
  },
  {
   "cell_type": "markdown",
   "metadata": {},
   "source": [
    "- v. One can expect that supervised learning on the full data set works better than semi-supervised learning with half of the data set labeled. One can expects that unsupervised learning underperforms in such situations. Compare the results you obtained by those methods.\n",
    "\n",
    "    - For this part of question, I assumed that we are comparing the three machine learning algorithms based on the results for the reported average accuracy, precision, recall, F-score and AUC.\n",
    "    - By comparing the reported average of the Monte Carlo Simulation of 30 times, the supervised learning algorithm works better than the semi-supervised learning algorithm and the unsupervised algorithm. \n",
    "    - When comparing between the semi-supervised learning algorithm and unsupervised algorithm, semi-supervised learning algorithm works better as unsupervised algorithm performs poorly, to the point that it would be better of tossing a coin for a classifier when comparing the results in terms of the AUC."
   ]
  },
  {
   "cell_type": "markdown",
   "metadata": {},
   "source": [
    "#### 2. Active Learning Using Support Vector Machines"
   ]
  },
  {
   "cell_type": "markdown",
   "metadata": {},
   "source": [
    "(a) Download the banknote authentication Data Set from: https://archive.ics.uci.edu/ml/datasets/banknote+authentication. Choose 472 data points randomly as the test set, and the remaining 900 points as the training set. This is a binary classification problem"
   ]
  },
  {
   "cell_type": "code",
   "execution_count": 64,
   "metadata": {},
   "outputs": [
    {
     "data": {
      "text/html": [
       "<div>\n",
       "<table border=\"1\" class=\"dataframe\">\n",
       "  <thead>\n",
       "    <tr style=\"text-align: right;\">\n",
       "      <th></th>\n",
       "      <th>variance</th>\n",
       "      <th>skewness</th>\n",
       "      <th>curtosis</th>\n",
       "      <th>entropy</th>\n",
       "      <th>class</th>\n",
       "    </tr>\n",
       "  </thead>\n",
       "  <tbody>\n",
       "    <tr>\n",
       "      <th>0</th>\n",
       "      <td>3.62160</td>\n",
       "      <td>8.6661</td>\n",
       "      <td>-2.8073</td>\n",
       "      <td>-0.44699</td>\n",
       "      <td>0</td>\n",
       "    </tr>\n",
       "    <tr>\n",
       "      <th>1</th>\n",
       "      <td>4.54590</td>\n",
       "      <td>8.1674</td>\n",
       "      <td>-2.4586</td>\n",
       "      <td>-1.46210</td>\n",
       "      <td>0</td>\n",
       "    </tr>\n",
       "    <tr>\n",
       "      <th>2</th>\n",
       "      <td>3.86600</td>\n",
       "      <td>-2.6383</td>\n",
       "      <td>1.9242</td>\n",
       "      <td>0.10645</td>\n",
       "      <td>0</td>\n",
       "    </tr>\n",
       "    <tr>\n",
       "      <th>3</th>\n",
       "      <td>3.45660</td>\n",
       "      <td>9.5228</td>\n",
       "      <td>-4.0112</td>\n",
       "      <td>-3.59440</td>\n",
       "      <td>0</td>\n",
       "    </tr>\n",
       "    <tr>\n",
       "      <th>4</th>\n",
       "      <td>0.32924</td>\n",
       "      <td>-4.4552</td>\n",
       "      <td>4.5718</td>\n",
       "      <td>-0.98880</td>\n",
       "      <td>0</td>\n",
       "    </tr>\n",
       "  </tbody>\n",
       "</table>\n",
       "</div>"
      ],
      "text/plain": [
       "   variance  skewness  curtosis  entropy  class\n",
       "0   3.62160    8.6661   -2.8073 -0.44699      0\n",
       "1   4.54590    8.1674   -2.4586 -1.46210      0\n",
       "2   3.86600   -2.6383    1.9242  0.10645      0\n",
       "3   3.45660    9.5228   -4.0112 -3.59440      0\n",
       "4   0.32924   -4.4552    4.5718 -0.98880      0"
      ]
     },
     "execution_count": 64,
     "metadata": {},
     "output_type": "execute_result"
    }
   ],
   "source": [
    "banknote_df = df=pd.read_csv(\"data_banknote_authentication.txt\",sep=\",\",header=None, \n",
    "               names=['variance','skewness','curtosis','entropy','class'])\n",
    "banknote_df.head()"
   ]
  },
  {
   "cell_type": "code",
   "execution_count": 65,
   "metadata": {},
   "outputs": [
    {
     "name": "stdout",
     "output_type": "stream",
     "text": [
      "Size of train data set: (900, 5)\n",
      "Size of test data set: (472, 5)\n"
     ]
    }
   ],
   "source": [
    "train_df, test_df = train_test_split(banknote_df, test_size=472)\n",
    "\n",
    "X_train = train_df.iloc[:,:4]\n",
    "y_train = train_df['class']\n",
    "\n",
    "X_test = test_df.iloc[:,:4]\n",
    "y_test = test_df['class']\n",
    "\n",
    "print(\"Size of train data set: \" + str(train_df.shape))\n",
    "print(\"Size of test data set: \" + str(test_df.shape))"
   ]
  },
  {
   "cell_type": "markdown",
   "metadata": {},
   "source": [
    "(b) Repeat each of the following two procedures 50 times. You will have 50 errors for 90 SVMs per each procedure."
   ]
  },
  {
   "cell_type": "markdown",
   "metadata": {},
   "source": [
    "- i. Train a SVM with a pool of 10 randomly selected data points from the training set using linear kernel and L1 penalty. Select the penalty parameter using 10-fold cross validation. Repeat this process by adding 10 other randomly\n",
    "selected data points to the pool, until you use all the 900 points. Do NOT replace the samples back into the training set at each step. Calculate the test error for each SVM. You will have 90 SVMs that were trained using 10, 20, 30, ... , 900 data points and their 90 test errors. You have implemented passive learning."
   ]
  },
  {
   "cell_type": "code",
   "execution_count": 67,
   "metadata": {},
   "outputs": [],
   "source": [
    "# first initialization for first 10 \n",
    "\n",
    "k_folds = KFold(10) \n",
    "parameters={'C':[0.0001, 0.001, 0.01, 0.1, 1, 10, 100, 1000, 10000, 100000]}\n",
    "svm_l1 = LinearSVC(penalty = 'l1', dual = False)\n",
    "\n",
    "gsc = GridSearchCV(svm_l1, parameters, cv = k_folds)\n",
    "\n",
    "initial_sample = train_df.sample(n=10)\n",
    "initial_sample_X = initial_sample.iloc[:,:4]\n",
    "initial_sample_y = initial_sample['class']\n",
    "train_subset_890 = train_df.drop(initial_sample.index)\n",
    "\n",
    "gsc.fit(initial_sample_X, initial_sample_y)\n",
    "\n",
    "test_error = [] \n",
    "preds_test_initial = gsc.predict(X_test)\n",
    "accuracy_test_initial = accuracy_score(y_test, preds_test_initial)\n",
    "test_error.append(accuracy_test_initial)"
   ]
  },
  {
   "cell_type": "code",
   "execution_count": 68,
   "metadata": {
    "collapsed": true
   },
   "outputs": [],
   "source": [
    "for each_run in range(89):\n",
    "    each_sample = train_subset_890.sample(n=10)\n",
    "    train_subset_890 = train_subset_890.drop(each_sample.index)\n",
    "    \n",
    "    each_sample_X = initial_sample.iloc[:,:4]\n",
    "    each_sample_y = initial_sample['class']\n",
    "    \n",
    "    frames_X = [initial_sample_X, each_sample_X]\n",
    "    initial_sample_X = pd.concat(frames_X, axis = 0)\n",
    "    frames_y = [pd.DataFrame(initial_sample_y), pd.DataFrame(each_sample_y)]\n",
    "    initial_sample_y = pd.concat(frames_y, axis = 0)\n",
    "    \n",
    "    gsc.fit(initial_sample_X, initial_sample_y)\n",
    "    each_preds = gsc.predict(X_test)\n",
    "    each_accuracy = accuracy_score(y_test, each_preds)\n",
    "    test_error.append(each_accuracy)"
   ]
  },
  {
   "cell_type": "code",
   "execution_count": 70,
   "metadata": {},
   "outputs": [
    {
     "name": "stdout",
     "output_type": "stream",
     "text": [
      "Average Test Error for Passive Learning: 0.08815913371\n"
     ]
    }
   ],
   "source": [
    "print(\"Average Test Error for Passive Learning: \" + str(1 - np.mean(test_error))) "
   ]
  },
  {
   "cell_type": "markdown",
   "metadata": {},
   "source": [
    "- ii. Train a SVM with a pool of 10 randomly selected data points from the training set using linear kernel and L1 penalty. Select the parameters of the SVM with 10-fold cross validation. Choose the 10 closest data points in the training set to the hyperplane of the SVM and add them to the pool. Do not replace the samples back into the training set. Train a new SVM using the pool. Repeat this process until all training data is used. You will have 90 SVMs that were trained using 10, 20, 30,..., 900 data points and their 90 test errors. You have implemented active learning."
   ]
  },
  {
   "cell_type": "code",
   "execution_count": 76,
   "metadata": {},
   "outputs": [],
   "source": [
    "# initialize \n",
    "k_folds = KFold(10) \n",
    "parameters={'C':[0.0001, 0.001, 0.01, 0.1, 1, 10, 100, 1000, 10000, 100000]}\n",
    "svm_l1 = LinearSVC(penalty = 'l1', dual = False)\n",
    "\n",
    "gsc = GridSearchCV(svm_l1, parameters, cv = k_folds)\n",
    "\n",
    "initial_sample = train_df.sample(n=10)\n",
    "initial_sample_X = initial_sample.iloc[:,:4]\n",
    "initial_sample_y = initial_sample['class']\n",
    "train_subset_890 = train_df.drop(initial_sample.index)\n",
    "\n",
    "gsc.fit(initial_sample_X, initial_sample_y)\n",
    "\n",
    "# new model \n",
    "c_parameter = gsc.best_params_.get('C')\n",
    "model_active = LinearSVC(penalty = 'l1', dual = False, C = c_parameter)\n",
    "model_active.fit(initial_sample_X, initial_sample_y)\n",
    "\n",
    "test_error_active = [] \n",
    "preds_test_initial_active = model_active.predict(X_test)\n",
    "accuracy_test_initial_active = accuracy_score(y_test, preds_test_initial_active)\n",
    "test_error_active.append(accuracy_test_initial_active)"
   ]
  },
  {
   "cell_type": "code",
   "execution_count": 77,
   "metadata": {},
   "outputs": [],
   "source": [
    "for active_run in range(89):\n",
    "    # retain index for calculating distance\n",
    "    active_dist_index = pd.DataFrame(train_subset_890.index.values, columns = ['ind'])\n",
    "    \n",
    "    # calculate the distance \n",
    "    y = model_active.decision_function(train_subset_890.iloc[:,:4])\n",
    "    w_norm = np.linalg.norm(model_active.coef_)\n",
    "    dist = y / w_norm\n",
    "    dist = pd.DataFrame(np.abs(dist)) # abs value to compare \n",
    "    \n",
    "    # retain index and distance \n",
    "    dist_and_index_frame = [active_dist_index, dist]\n",
    "    dist_and_index = pd.concat(dist_and_index_frame, axis = 1)\n",
    "    dist_and_index = dist_and_index.set_index('ind')\n",
    "    \n",
    "    # choose the closest 10 \n",
    "    closest_10 = dist_and_index.sort_values(by=0)[:10]\n",
    "    \n",
    "    # select 10 that will be added from the subset of the train \n",
    "    selected_10 = train_subset_890[train_subset_890.index.isin(closest_10.index)]\n",
    "    selected_10_X = selected_10.iloc[:,:4]\n",
    "    selected_10_y = selected_10['class']\n",
    "    \n",
    "    frames_X = [initial_sample_X, selected_10_X]\n",
    "    initial_sample_X = pd.concat(frames_X, axis = 0)\n",
    "    frames_y = [initial_sample_y, selected_10_y]\n",
    "    initial_sample_y = pd.concat(frames_y, axis = 0)\n",
    "    \n",
    "    # drop the closest 10 from subset \n",
    "    train_subset_890 = train_subset_890.drop(closest_10.index)\n",
    "    \n",
    "    model_active.fit(initial_sample_X, initial_sample_y)\n",
    "    preds_test_initial_active = model_active.predict(X_test)\n",
    "    accuracy_test_initial_active = accuracy_score(y_test, preds_test_initial_active)\n",
    "    test_error_active.append(accuracy_test_initial_active)"
   ]
  },
  {
   "cell_type": "code",
   "execution_count": 78,
   "metadata": {},
   "outputs": [
    {
     "name": "stdout",
     "output_type": "stream",
     "text": [
      "Average Test Error for Active Learning: 0.0107815442561\n"
     ]
    }
   ],
   "source": [
    "print(\"Average Test Error for Active Learning: \" + str(1-np.mean(test_error_active)))"
   ]
  },
  {
   "cell_type": "markdown",
   "metadata": {},
   "source": [
    "(c) Average the 50 test errors for each of the incrementally trained 90 SVMs in 2(b)i and 2(b)ii. By doing so, you are performing a Monte Carlo simulation. Plot average test error versus number of training instances for both active and passive learners on the same figure and report your conclusions. Here, you are actually obtaining a learning curve by Monte-Carlo simulation."
   ]
  },
  {
   "cell_type": "markdown",
   "metadata": {},
   "source": [
    "*** Please note that I used n_samples = 30 in each batch since it was giving errors that only one class was selected ***"
   ]
  },
  {
   "cell_type": "code",
   "execution_count": 147,
   "metadata": {},
   "outputs": [],
   "source": [
    "monte_test_error = [] "
   ]
  },
  {
   "cell_type": "code",
   "execution_count": 148,
   "metadata": {},
   "outputs": [],
   "source": [
    "for monte_passive in range(50):\n",
    "    # first initialization for first 10 \n",
    "    k_folds = KFold(10) \n",
    "    parameters={'C':[0.0001, 0.001, 0.01, 0.1, 1, 10, 100, 1000, 10000, 100000]}\n",
    "    svm_l1 = LinearSVC(penalty = 'l1', dual = False)\n",
    "    \n",
    "    gsc = GridSearchCV(svm_l1, parameters, cv = k_folds)\n",
    "    \n",
    "    initial_sample = train_df.sample(n=30)\n",
    "    initial_sample_X = initial_sample.iloc[:,:4]\n",
    "    initial_sample_y = initial_sample['class']\n",
    "    train_subset_890 = train_df.drop(initial_sample.index)\n",
    "    \n",
    "    gsc.fit(initial_sample_X, initial_sample_y)\n",
    "    \n",
    "    # new model \n",
    "    c_parameter = gsc.best_params_.get('C')\n",
    "    model_passive = LinearSVC(penalty = 'l1', dual = False, C = c_parameter)\n",
    "    model_passive.fit(initial_sample_X, initial_sample_y)\n",
    "    \n",
    "    test_error = [] \n",
    "    preds_test_initial = model_passive.predict(X_test)\n",
    "    accuracy_test_initial = accuracy_score(y_test, preds_test_initial)\n",
    "    test_error.append(accuracy_test_initial)\n",
    "    \n",
    "    for each_run in range(29):\n",
    "        each_sample = train_subset_890.sample(n=30)\n",
    "        train_subset_890 = train_subset_890.drop(each_sample.index)\n",
    "        \n",
    "        each_sample_X = initial_sample.iloc[:,:4]\n",
    "        each_sample_y = initial_sample['class']\n",
    "        \n",
    "        frames_X = [initial_sample_X, each_sample_X]\n",
    "        initial_sample_X = pd.concat(frames_X, axis = 0)\n",
    "        frames_y = [pd.DataFrame(initial_sample_y), pd.DataFrame(each_sample_y)]\n",
    "        initial_sample_y = pd.concat(frames_y, axis = 0)\n",
    "        \n",
    "        model_passive.fit(initial_sample_X, initial_sample_y)\n",
    "        each_preds = model_passive.predict(X_test)\n",
    "        each_accuracy = accuracy_score(y_test, each_preds)\n",
    "        test_error.append(each_accuracy)\n",
    "    monte_test_error.append(test_error)"
   ]
  },
  {
   "cell_type": "code",
   "execution_count": 149,
   "metadata": {
    "collapsed": true
   },
   "outputs": [],
   "source": [
    "monte_average_passive = [1-(sum(x)/50) for x in zip(*monte_test_error)]"
   ]
  },
  {
   "cell_type": "code",
   "execution_count": 151,
   "metadata": {
    "collapsed": true
   },
   "outputs": [],
   "source": [
    "monte_test_error_active = [] "
   ]
  },
  {
   "cell_type": "code",
   "execution_count": 152,
   "metadata": {},
   "outputs": [],
   "source": [
    "for monte_active in range(50):\n",
    "\n",
    "    # initialize \n",
    "    k_folds = KFold(10) \n",
    "    parameters={'C':[0.0001, 0.001, 0.01, 0.1, 1, 10, 100, 1000, 10000, 100000]}\n",
    "    svm_l1 = LinearSVC(penalty = 'l1', dual = False)\n",
    "    \n",
    "    gsc = GridSearchCV(svm_l1, parameters, cv = k_folds)\n",
    "    \n",
    "    initial_sample = train_df.sample(n=30)\n",
    "    initial_sample_X = initial_sample.iloc[:,:4]\n",
    "    initial_sample_y = initial_sample['class']\n",
    "    train_subset_890 = train_df.drop(initial_sample.index)\n",
    "    \n",
    "    gsc.fit(initial_sample_X, initial_sample_y)\n",
    "    \n",
    "    # new model \n",
    "    c_parameter = gsc.best_params_.get('C')\n",
    "    model_active = LinearSVC(penalty = 'l1', dual = False, C = c_parameter)\n",
    "    model_active.fit(initial_sample_X, initial_sample_y)\n",
    "    \n",
    "    test_error_active = [] \n",
    "    preds_test_initial_active = model_active.predict(X_test)\n",
    "    accuracy_test_initial_active = accuracy_score(y_test, preds_test_initial_active)\n",
    "    test_error_active.append(accuracy_test_initial_active)\n",
    "    \n",
    "    for active_run in range(29):\n",
    "        # retain index for calculating distance\n",
    "        active_dist_index = pd.DataFrame(train_subset_890.index.values, columns = ['ind'])\n",
    "        \n",
    "        # calculate the distance \n",
    "        y = model_active.decision_function(train_subset_890.iloc[:,:4])\n",
    "        w_norm = np.linalg.norm(model_active.coef_)\n",
    "        dist = y / w_norm\n",
    "        dist = pd.DataFrame(np.abs(dist)) # abs value to compare \n",
    "        \n",
    "        # retain index and distance \n",
    "        dist_and_index_frame = [active_dist_index, dist]\n",
    "        dist_and_index = pd.concat(dist_and_index_frame, axis = 1)\n",
    "        dist_and_index = dist_and_index.set_index('ind')\n",
    "        \n",
    "        # choose the closest 10 \n",
    "        closest_10 = dist_and_index.sort_values(by=0)[:10]\n",
    "        \n",
    "        # select 10 that will be added from the subset of the train \n",
    "        selected_10 = train_subset_890[train_subset_890.index.isin(closest_10.index)]\n",
    "        selected_10_X = selected_10.iloc[:,:4]\n",
    "        selected_10_y = selected_10['class']\n",
    "        \n",
    "        frames_X = [initial_sample_X, selected_10_X]\n",
    "        initial_sample_X = pd.concat(frames_X, axis = 0)\n",
    "        frames_y = [initial_sample_y, selected_10_y]\n",
    "        initial_sample_y = pd.concat(frames_y, axis = 0)\n",
    "        \n",
    "        # drop the closest 10 from subset \n",
    "        train_subset_890 = train_subset_890.drop(closest_10.index)\n",
    "        \n",
    "        model_active.fit(initial_sample_X, initial_sample_y)\n",
    "        preds_test_initial_active = model_active.predict(X_test)\n",
    "        accuracy_test_initial_active = accuracy_score(y_test, preds_test_initial_active)\n",
    "        test_error_active.append(accuracy_test_initial_active)\n",
    "    monte_test_error_active.append(test_error_active)"
   ]
  },
  {
   "cell_type": "code",
   "execution_count": 153,
   "metadata": {
    "collapsed": true
   },
   "outputs": [],
   "source": [
    "monte_average_active = [1 - (sum(x)/50) for x in zip(*monte_test_error_active)]"
   ]
  },
  {
   "cell_type": "code",
   "execution_count": 154,
   "metadata": {},
   "outputs": [
    {
     "data": {
      "image/png": "[encoded data removed]",
      "text/plain": [
       "<Figure size 432x288 with 1 Axes>"
      ]
     },
     "metadata": {
      "needs_background": "light"
     },
     "output_type": "display_data"
    }
   ],
   "source": [
    "num_train = range(10, 901, 30)\n",
    "\n",
    "plt.plot(num_train, monte_average_passive, label='passive')\n",
    "plt.plot(num_train, monte_average_active, label='active')\n",
    "plt.xlabel('number of training instances')\n",
    "plt.ylabel('average test error')\n",
    "plt.legend()\n",
    "plt.show()"
   ]
  },
  {
   "cell_type": "markdown",
   "metadata": {},
   "source": [
    "- Conclusion: \n",
    "    - Upon observing the results for this part of the exercise, we can see active learning decreases more rapidly \n",
    "    - As number of training instances, n_samples, increase, active learning seems to perform better since it gives less average test error\n",
    "    - The active learning curve is more smoother than the passive learning one which seems to indicate a more stable model.\n",
    "    - Overall, in baiscally all of the instances, active learning seems to perform significantly better than passive learning in terms of average test error vs. as the number of training instances increase"
   ]
  }
 ],
 "metadata": {
  "kernelspec": {
   "display_name": "Python 2",
   "language": "python",
   "name": "python2"
  },
  "language_info": {
   "codemirror_mode": {
    "name": "ipython",
    "version": 2
   },
   "file_extension": ".py",
   "mimetype": "text/x-python",
   "name": "python",
   "nbconvert_exporter": "python",
   "pygments_lexer": "ipython2",
   "version": "2.7.15"
  }
 },
 "nbformat": 4,
 "nbformat_minor": 2
}
